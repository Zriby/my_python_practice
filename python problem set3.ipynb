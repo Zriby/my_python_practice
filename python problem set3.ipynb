{
 "cells": [
  {
   "cell_type": "code",
   "execution_count": null,
   "metadata": {},
   "outputs": [],
   "source": [
    "def number_split(n):\n",
    "    return [n//2,n//2] if n%2==0 else [n//2,n//2+1]\n",
    "#or\n",
    "def number_split(n):\n",
    "\treturn [n//2, n//2+n%2]\n",
    "\n",
    "# Given a number, return a list containing the two halves of the number. If the number is odd, \n",
    "# make the rightmost number higher.\n",
    "\n",
    "# Examples\n",
    "\n",
    "# number_split(4) ➞ [2, 2]\n",
    "\n",
    "# number_split(10) ➞ [5, 5]\n",
    "\n",
    "# number_split(11) ➞ [5, 6]\n",
    "\n",
    "# number_split(-9) ➞ [-5, -4]\n",
    "# Notes\n",
    "\n",
    "# All numbers will be integers.\n",
    "# You can expect negative numbers too."
   ]
  },
  {
   "cell_type": "code",
   "execution_count": null,
   "metadata": {},
   "outputs": [],
   "source": [
    "def end_corona(rec, new, active):\n",
    "    days=0\n",
    "    while active-(rec-new)*days > 0:\n",
    "        days+=1\n",
    "    return days\n",
    "#or\n",
    "from math import ceil\n",
    "def end_corona(recovers, new_cases, active_cases):\n",
    "\treturn ceil(active_cases/(recovers - new_cases))\n",
    "\n",
    "#or\n",
    "end_corona= lambda r,n,a: (a//(r-n))+1\n",
    "\n",
    "\n",
    "#def end_corona(recovers, new_cases, active_cases):\n",
    "\n",
    "# Create a function that takes the number of daily average recovered cases recovers, \n",
    "# daily average new_cases, current active_cases, and returns the number of days it will take to reach zero cases.\n",
    "\n",
    "# Examples\n",
    "\n",
    "# end_corona(4000, 2000, 77000) ➞ 39\n",
    "\n",
    "# end_corona(3000, 2000, 50699) ➞ 51\n",
    "\n",
    "# end_corona(30000, 25000, 390205) ➞ 79\n",
    "# Notes\n",
    "\n",
    "# The number of people who recover per day recovers will always be greater than daily new_cases.\n",
    "# Be conservative and round up the number of days needed."
   ]
  },
  {
   "cell_type": "code",
   "execution_count": 483,
   "metadata": {},
   "outputs": [
    {
     "data": {
      "text/plain": [
       "['exercising', 'is', 'a', 'off', 'energy.']"
      ]
     },
     "execution_count": 483,
     "metadata": {},
     "output_type": "execute_result"
    }
   ],
   "source": [
    "def retrieve(txt):\n",
    "    return [txt.lower().split()[i] for i in range(len(txt.split())) if txt.lower().split()[i][0] in ['a', 'e', 'i', 'o', 'u'] ]\n",
    "\n",
    "txt=\"Exercising is a healthy way to burn off energy.\"\n",
    "\n",
    "retrieve(txt)\n",
    "# Write a function that retrieves all words that begin with a vowel.\n",
    "\n",
    "# Examples\n",
    "\n",
    "# retrieve(\"A simple life is a happy life for me.\") ➞ [\"a\", \"is\", \"a\"]\n",
    "\n",
    "# retrieve(\"Exercising is a healthy way to burn off energy.\")\n",
    "# ➞ [\"exercising\", \"is\", \"a\", \"off\", \"energy\"]\n",
    "\n",
    "# retrieve(\"The poor ostrich was ostracized.\")\n",
    "# ➞ [\"ostrich\", \"ostracized\"]\n",
    "\n",
    "# retrieve(\"\")\n",
    "# ➞ []\n",
    "# Notes\n",
    "\n",
    "# Make all words lower case in the output.\n",
    "# Retrieve the words in the order they appear in the sentence."
   ]
  },
  {
   "cell_type": "code",
   "execution_count": null,
   "metadata": {},
   "outputs": [],
   "source": [
    "class Person:\n",
    "\tdef __init__(self, name, age):\n",
    "\t\tself.name = name\n",
    "\t\tself.age = age\n",
    "\n",
    "\tdef compare_age(self, other):\n",
    "\t\tif self.age > other.age:\n",
    "\t\t\treturn \"{} is younger than me.\".format(other.name)\n",
    "\t\telif self.age < other.age:\n",
    "\t\t\treturn \"{} is older than me.\".format(other.name)\n",
    "\t\telse:\n",
    "\t\t\treturn \"{} is the same age as me.\".format(other.name)\n",
    "\n",
    "# Create a method in the Person class which returns how another person's age compares.\n",
    "# Given the objects p1, p2 and p3, which will be initialised with the attributes name and age, \n",
    "# return a sentence in the following format:\n",
    "\n",
    "# {other_person} is {older than / younger than / the same age as} me.\n",
    "\n",
    "# Examples\n",
    "\n",
    "# p1 = Person(\"Samuel\", 24)\n",
    "# p2 = Person(\"Joel\", 36)\n",
    "# p3 = Person(\"Lily\", 24)\n",
    "# p1.compare_age(p2) ➞ \"Joel is older than me.\"\n",
    "\n",
    "# p2.compare_age(p1) ➞ \"Samuel is younger than me.\"\n",
    "\n",
    "# p1.compare_age(p3) ➞ \"Lily is the same age as me.\"\n",
    "# Notes\n",
    "\n",
    "# Check out the Resources tab for some helpful tutorials on Python classes!\n",
    "# If you're really stuck, check out the Solutions tab for answers."
   ]
  },
  {
   "cell_type": "code",
   "execution_count": null,
   "metadata": {},
   "outputs": [],
   "source": [
    "def sort_descending(num):\n",
    "    return int(''.join(sorted(str(num),reverse=True)))\n",
    "#or\n",
    "sort_descending=lambda n:int(''.join(sorted(str(n),reverse=True)))\n",
    "\n",
    "# Create a function that takes any non-negative number as an argument and returns it with its digits\n",
    "# in descending order. Descending order is when you sort from highest to lowest.\n",
    "\n",
    "# Examples\n",
    "\n",
    "# sort_descending(123) ➞ 321\n",
    "\n",
    "# sort_descending(1254859723) ➞ 9875543221\n",
    "\n",
    "# sort_descending(73065) ➞ 76530\n",
    "# Notes\n",
    "\n",
    "# You can expect non-negative numbers for all test cases."
   ]
  },
  {
   "cell_type": "code",
   "execution_count": null,
   "metadata": {},
   "outputs": [],
   "source": [
    "def worm_length(worm):\n",
    "    return ['invalid' if worm=='' else str(len(worm)*10)+' mm.' if len([i for i in worm if i=='-'])==len(worm) else 'invalid' ][0]\n",
    "\n",
    "#or\n",
    "def worm_length(worm):\n",
    "\treturn ('{} mm.'.format(10 * len(worm)) if\n",
    "\t\tset(worm) == {'-'} else 'invalid')\n",
    "\n",
    "# Given a string worm create a function that takes the length of the worm and converts it into millimeters. \n",
    "# Each - represents one centimeter.\n",
    "\n",
    "# Examples\n",
    "\n",
    "# worm_length(\"----------\") ➞ \"100 mm.\"\n",
    "\n",
    "# worm_length(\"\") ➞ \"invalid\"\n",
    "\n",
    "# worm_length(\"---_-___---_\") ➞ \"invalid\"\n",
    "# Notes\n",
    "\n",
    "# Return \"invalid\" if an empty string is given or if the string has characters other than -."
   ]
  },
  {
   "cell_type": "code",
   "execution_count": null,
   "metadata": {},
   "outputs": [],
   "source": [
    "def in_box(lst):\n",
    "    return any(['*' in i[1:-1] for i in lst] )\n",
    "\n",
    "# Create a function that returns True if an asterisk * is inside a box.\n",
    "\n",
    "# Examples\n",
    "\n",
    "# in_box([\n",
    "#   \"###\",\n",
    "#   \"#*#\",\n",
    "#   \"###\"\n",
    "# ]) ➞ True\n",
    "\n",
    "\n",
    "# in_box([\n",
    "#   \"####\",\n",
    "#   \"#* #\",\n",
    "#   \"#  #\",\n",
    "#   \"####\"\n",
    "# ]) ➞ True\n",
    "\n",
    "\n",
    "# in_box([\n",
    "#   \"*####\",\n",
    "#   \"# #\",\n",
    "#   \"#  #*\",\n",
    "#   \"####\"\n",
    "# ]) ➞ false\n",
    "\n",
    "\n",
    "# in_box([\n",
    "#   \"#####\",\n",
    "#   \"#   #\",\n",
    "#   \"#   #\",\n",
    "#   \"#   #\",\n",
    "#   \"#####\"\n",
    "# ]) ➞ False\n",
    "# Notes\n",
    "\n",
    "# The asterisk may be in the array, however, it must be inside the box, if it exists."
   ]
  },
  {
   "cell_type": "code",
   "execution_count": null,
   "metadata": {},
   "outputs": [],
   "source": [
    "def emotify(txt):\n",
    "\temotions = {\n",
    "\t\t'Make me smile' : ':D',\n",
    "\t\t'Make me grin' : ':)',\n",
    "\t\t'Make me sad' : ':(',\n",
    "\t\t'Make me mad' : ':P'\n",
    "\t}\n",
    "\treturn 'Make me ' + emotions[txt] \n",
    "\n",
    "# Create a function that changes specific words into emoticons. Given a sentence as a string, replace the words smile, grin, sad and mad with their corresponding emoticons.\n",
    "\n",
    "# word\temoticon\n",
    "# smile\t:D\n",
    "# grin\t:)\n",
    "# sad\t:(\n",
    "# mad\t:P\n",
    "# Examples\n",
    "\n",
    "# emotify(\"Make me smile\") ➞ \"Make me :D\"\n",
    "\n",
    "# emotify(\"Make me grin\") ➞ \"Make me :)\"\n",
    "\n",
    "# emotify(\"Make me sad\") ➞ \"Make me :(\"\n",
    "# Notes\n",
    "\n",
    "# The sentence always starts with \"Make me\".\n",
    "# Try to solve this without using conditional statements like if/else."
   ]
  },
  {
   "cell_type": "code",
   "execution_count": 6,
   "metadata": {},
   "outputs": [],
   "source": [
    "def halflife_calculator(mass, hlife, n):\n",
    "    return [mass*(0.5)**(hlife),hlife*n]\n",
    "\n",
    "#def halflife_calculator(mass, hlife, n):\n",
    "\n",
    "# A half life is the amount of time for half of a radioactive substance to decay.\n",
    "\n",
    "# After 1 half life, 50% of a substance will be left.\n",
    "# After 2 half lives, 25% of a substance will be left.\n",
    "# After 3 half lives, 12.5% of a substance will be left, etc...\n",
    "# Create a function which calculates the remaining mass and the number of years that it took for the \n",
    "# substance to decay. You will be given:\n",
    "\n",
    "# The mass of the substance.\n",
    "# The time in years for a halflife to elapse.\n",
    "# The number of half lives.\n",
    "# Worked Example\n",
    "\n",
    "# halflife_calculator(1000, 5730, 2) ➞ [250, 11460]\n",
    "\n",
    "# # There are 2 half lives, so the mass decays from 1000 to 500, then from 500 to 250.\n",
    "# # Each halflife is 5730 years, and since there were 2, it took 11460 years in total.\n",
    "# Examples\n",
    "\n",
    "# halflife_calculator(1600, 6, 3) ➞ [200, 18]\n",
    "\n",
    "# halflife_calculator(13, 500, 1) ➞ [6.5, 500]\n",
    "\n",
    "# halflife_calculator(100, 35, 5) ➞ [3.125, 175]\n",
    "# Notes\n",
    "\n",
    "# Round the final mass to three decimal places.\n",
    "# All inputs are positive numbers.\n",
    "# Return the final mass first, then the number of years."
   ]
  },
  {
   "cell_type": "code",
   "execution_count": 11,
   "metadata": {},
   "outputs": [
    {
     "data": {
      "text/plain": [
       "True"
      ]
     },
     "execution_count": 11,
     "metadata": {},
     "output_type": "execute_result"
    }
   ],
   "source": [
    "def is_isogram(txt):\n",
    "    return len(txt)==len(set(txt.lower()))\n",
    "\n",
    "#or\n",
    "is_isogram=lambda txt:len(txt)==len(set(txt.lower()))\n",
    "\n",
    "# An isogram is a word that has no duplicate letters. Create a function that takes a string and returns either\n",
    "# True or False depending on whether or not it's an \"isogram\".\n",
    "\n",
    "# Examples\n",
    "\n",
    "# is_isogram(\"Algorism\") ➞ True\n",
    "\n",
    "# is_isogram(\"PasSword\") ➞ False\n",
    "# # Not case sensitive.\n",
    "\n",
    "# is_isogram(\"Consecutive\") ➞ False\n",
    "# Notes\n",
    "\n",
    "# Ignore letter case (should not be case sensitive).\n",
    "# All test cases contain valid one word strings."
   ]
  },
  {
   "cell_type": "code",
   "execution_count": 19,
   "metadata": {},
   "outputs": [
    {
     "data": {
      "text/plain": [
       "True"
      ]
     },
     "execution_count": 19,
     "metadata": {},
     "output_type": "execute_result"
    }
   ],
   "source": [
    "def is_vowel_sandwich(s):\n",
    "    vowel=['a', 'e', 'i', 'o', 'u'] \n",
    "    return len(s)==3 and (s[1] in vowel) and (s[0] not in vowel) and (s[-1] not in vowel)\n",
    "\n",
    "#or \n",
    "def is_vowel_sandwich(s):\n",
    "\treturn [0, 1, 0] == [1 if l in 'aeiou' else 0 for l in s]\n",
    "\n",
    "# Create a function which validates whether a 3 character string is a vowel sandwich.\n",
    "# In order to have a valid sandwich, the string must satisfy the following rules:\n",
    "\n",
    "# The first and last characters must be a consonant.\n",
    "# The character in the middle must be a vowel.\n",
    "# Examples\n",
    "\n",
    "# is_vowel_sandwich(\"cat\") ➞ True\n",
    "\n",
    "# is_vowel_sandwich(\"ear\") ➞ False\n",
    "\n",
    "# is_vowel_sandwich(\"bake\") ➞ False\n",
    "\n",
    "# is_vowel_sandwich(\"try\") ➞ False\n",
    "# Notes\n",
    "\n",
    "# Return False if the word is not 3 characters in length.\n",
    "# All words will be given in lowercase.\n",
    "# y is not considered a vowel."
   ]
  },
  {
   "cell_type": "code",
   "execution_count": 28,
   "metadata": {},
   "outputs": [
    {
     "data": {
      "text/plain": [
       "True"
      ]
     },
     "execution_count": 28,
     "metadata": {},
     "output_type": "execute_result"
    }
   ],
   "source": [
    "def marathon_distance(d):\n",
    "    return sum([abs(i) for i in d])==25\n",
    "\n",
    "#or\n",
    "def marathon_distance(d):\n",
    "\t\treturn sum(map(abs, d)) == 25\n",
    "\n",
    "\n",
    "# Mary wants to run a 25-mile marathon. When she attempts to sign up for the marathon, she notices the sign-up \n",
    "# sheet doesn't directly state the marathon's length. Instead, the marathon's length is listed in small,\n",
    "# different portions. Help Mary find out how long the marathon actually is.\n",
    "\n",
    "# Return True if the marathon is 25 miles long, otherwise, return False.\n",
    "\n",
    "# Examples\n",
    "\n",
    "# marathon_distance([1, 2, 3, 4]) ➞ False\n",
    "\n",
    "# marathon_distance([1, 9, 5, 8, 2]) ➞ True\n",
    "\n",
    "# marathon_distance([-6, 15, 4]) ➞ True\n",
    "# Notes\n",
    "\n",
    "# Items in the list will always be integers.\n",
    "# Items in the list may be negative or positive, but since negative distance isn't possible, \n",
    "# find a way to convert negative integers into positive integers.\n",
    "# Return False if the arguments are empty or not provided."
   ]
  },
  {
   "cell_type": "code",
   "execution_count": 33,
   "metadata": {},
   "outputs": [
    {
     "name": "stdout",
     "output_type": "stream",
     "text": [
      "Shrinkinator 6000\n"
     ]
    }
   ],
   "source": [
    "vowel=['a', 'e', 'i', 'o', 'u'] \n",
    "inv=\"Shrink\"\n",
    "if inv[-1] not in vowel:\n",
    "    print(inv+'inator '+str(len(inv))+'000')\n",
    "else:\n",
    "    print(inv+'-inator '+str(len(inv))+'000')\n",
    "    \n",
    "\n",
    "# Create a function that takes a single word string and does the following:\n",
    "\n",
    "# Concatenates inator to the end if the word ends with a consonant, otherwise, concatenate -inator instead.\n",
    "# Adds the word length of the original word to the end, supplied with \"000\".\n",
    "# The examples should make this clear.\n",
    "\n",
    "# Examples\n",
    "\n",
    "# inator_inator(\"Shrink\") ➞ \"Shrinkinator 6000\"\n",
    "\n",
    "# inator_inator(\"Doom\") ➞ \"Doominator 4000\"\n",
    "\n",
    "# inator_inator(\"EvilClone\") ➞ \"EvilClone-inator 9000\"\n",
    "# Notes\n",
    "\n",
    "# For the purposes of this challenge, vowels will be a, e, i, o and u only."
   ]
  },
  {
   "cell_type": "code",
   "execution_count": 48,
   "metadata": {},
   "outputs": [],
   "source": [
    "vowel=['a', 'e', 'i', 'o', 'u'] \n",
    "inv=\"Shrink\"\n",
    "def inator_inator(inv):\n",
    "    vowel=['a', 'e', 'i', 'o', 'u'] \n",
    "    return [inv+'inator '+str(len(inv))+'000'  if inv[-1].lower() not in vowel else inv+'-inator '+str(len(inv))+'000'][0]"
   ]
  },
  {
   "cell_type": "code",
   "execution_count": 65,
   "metadata": {},
   "outputs": [
    {
     "data": {
      "text/plain": [
       "'\"\", whispered Edabit.'"
      ]
     },
     "execution_count": 65,
     "metadata": {},
     "output_type": "execute_result"
    }
   ],
   "source": [
    "txt=\"\"\n",
    "def shhh(txt):\n",
    "    try:\n",
    "        return '\"'+txt[0].upper()+txt[1:].lower()+'\"'+', whispered Edabit.'\n",
    "    except IndexError:\n",
    "        return '\"\"'+', whispered Edabit.'\n",
    "\n",
    "#or\n",
    "def shhh(txt):\n",
    "\treturn '\"{}\", whispered Edabit.'.format(txt.capitalize())\n",
    "\n",
    "\n",
    "# Write a function that removes all capitals letters from a sentence except the first letter, \n",
    "# put quotation marks around the sentence and add \", whispered Edabit.\" at the end.\n",
    "\n",
    "# Examples\n",
    "\n",
    "# shhh(\"HI THERE!\") ➞ '\"Hi there!\", whispered Edabit.'\n",
    "\n",
    "# shhh(\"tHaT'S Pretty awesOme\") ➞ '\"That's pretty awesome\", whispered Edabit.'\n",
    "\n",
    "# shhh(\"\") ➞ '\"\", whispered Edabit.'\n",
    "# Notes\n",
    "\n",
    "# Don't forget to surround the original string with double quotation marks \"\"."
   ]
  },
  {
   "cell_type": "code",
   "execution_count": 94,
   "metadata": {},
   "outputs": [
    {
     "data": {
      "text/plain": [
       "''"
      ]
     },
     "execution_count": 94,
     "metadata": {},
     "output_type": "execute_result"
    }
   ],
   "source": [
    "def maskify(txt):\n",
    "    return len(str(txt)[:-4])*'#'+str(txt)[-4:]\n",
    "\n",
    "\n",
    "# Usually when you sign up for an account to buy something, your credit card number, \n",
    "# phone number or answer to a secret question is partially obscured in some way. Since someone could look over your shoulder, you don't want that shown on your screen. Hence, the website masks these strings.\n",
    "\n",
    "# Your task is to create a function that takes a string, transforms all but the last four characters \n",
    "# into \"#\" and returns the new masked string.\n",
    "\n",
    "# Examples\n",
    "\n",
    "# maskify(\"4556364607935616\") ➞ \"############5616\"\n",
    "\n",
    "# maskify(\"64607935616\") ➞ \"#######5616\"\n",
    "\n",
    "# maskify(\"1\") ➞ \"1\"\n",
    "\n",
    "# maskify(\"\") ➞ \"\"\n",
    "# Notes\n",
    "\n",
    "# The maskify function must accept a string of any length.\n",
    "# An empty string should return an empty string (fourth example above)."
   ]
  },
  {
   "cell_type": "code",
   "execution_count": 149,
   "metadata": {},
   "outputs": [
    {
     "name": "stdout",
     "output_type": "stream",
     "text": [
      "['0', '1', '2', '3', '4', '5', '6', '7', '8', '9', '10', '11', '12', '13', '14', '15', '16', '17', '18', '19', '20', '21', '22', '23', '24', '25']\n"
     ]
    },
    {
     "data": {
      "text/plain": [
       "'0 1 2 3 4 5 6 7 8 9 10 11 12 13 14 15 16 17 18 19 20 21 22 23 24 25'"
      ]
     },
     "execution_count": 149,
     "metadata": {},
     "output_type": "execute_result"
    }
   ],
   "source": [
    "import string\n",
    "\n",
    "def alph_num(txt):\n",
    "    alphabet_string = string.ascii_uppercase\n",
    "    alphabet_list = list(alphabet_string)\n",
    "    return ' '.join([str(alphabet_list.index(i)) for i in txt])\n",
    "    \n",
    "\n",
    "# Create a function that converts a string of letters to their respective number in the alphabet.\n",
    "\n",
    "\n",
    "# A\tB\tC\tD\tE\tF\tG\tH\tI\tJ\tK\tL\tM\tN\tO\tP\tQ\tR\tS\tT\tU\tV\tW\t...\n",
    "# 0\t1\t2\t3\t4\t5\t6\t7\t8\t9\t10\t11\t12\t13\t14\t15\t16\t17\t18\t19\t20\t21\t22\t...\n",
    "# Examples\n",
    "\n",
    "# alph_num(\"XYZ\") ➞ \"23 24 25\"\n",
    "\n",
    "# alph_num(\"ABCDEF\") ➞ \"0 1 2 3 4 5\"\n",
    "\n",
    "# alph_num(\"JAVASCRIPT\") ➞ \"9 0 21 0 18 2 17 8 15 19\"\n",
    "# Notes\n",
    "\n",
    "# Make sure the numbers are spaced.\n",
    "# All letters will be UPPERCASE."
   ]
  },
  {
   "cell_type": "code",
   "execution_count": 166,
   "metadata": {},
   "outputs": [
    {
     "ename": "ValueError",
     "evalue": "could not convert string to float: 'number'",
     "output_type": "error",
     "traceback": [
      "\u001b[0;31m---------------------------------------------------------------------------\u001b[0m",
      "\u001b[0;31mValueError\u001b[0m                                Traceback (most recent call last)",
      "\u001b[0;32m<ipython-input-166-a372d81bd776>\u001b[0m in \u001b[0;36m<module>\u001b[0;34m\u001b[0m\n\u001b[1;32m      1\u001b[0m \u001b[0mn\u001b[0m\u001b[0;34m=\u001b[0m\u001b[0;34m\"number\"\u001b[0m\u001b[0;34m\u001b[0m\u001b[0;34m\u001b[0m\u001b[0m\n\u001b[0;32m----> 2\u001b[0;31m \u001b[0mtype\u001b[0m\u001b[0;34m(\u001b[0m\u001b[0mfloat\u001b[0m\u001b[0;34m(\u001b[0m\u001b[0mn\u001b[0m\u001b[0;34m)\u001b[0m\u001b[0;34m)\u001b[0m\u001b[0;34m==\u001b[0m\u001b[0mfloat\u001b[0m \u001b[0;32mor\u001b[0m \u001b[0mtype\u001b[0m\u001b[0;34m(\u001b[0m\u001b[0mint\u001b[0m\u001b[0;34m(\u001b[0m\u001b[0mn\u001b[0m\u001b[0;34m)\u001b[0m\u001b[0;34m)\u001b[0m\u001b[0;34m==\u001b[0m\u001b[0mint\u001b[0m\u001b[0;34m\u001b[0m\u001b[0;34m\u001b[0m\u001b[0m\n\u001b[0m\u001b[1;32m      3\u001b[0m \u001b[0;34m\u001b[0m\u001b[0m\n\u001b[1;32m      4\u001b[0m \u001b[0;31m# Create a function which validates whether a given number exists, and could represent a real life quantity.\u001b[0m\u001b[0;34m\u001b[0m\u001b[0;34m\u001b[0m\u001b[0;34m\u001b[0m\u001b[0m\n\u001b[1;32m      5\u001b[0m \u001b[0;31m# Inputs will be given as a string.\u001b[0m\u001b[0;34m\u001b[0m\u001b[0;34m\u001b[0m\u001b[0;34m\u001b[0m\u001b[0m\n",
      "\u001b[0;31mValueError\u001b[0m: could not convert string to float: 'number'"
     ]
    }
   ],
   "source": [
    "def valid_str_number(n):\n",
    "    try:\n",
    "        return type(float(n))==float or type(int(n))==int\n",
    "    except ValueError:\n",
    "        return False\n",
    "    \n",
    "#or\n",
    "def valid_str_number(n):\n",
    "\ttry: float(n)\n",
    "\texcept: return False\n",
    "\treturn True\n",
    "    \n",
    "\n",
    "# Create a function which validates whether a given number exists, and could represent a real life quantity. \n",
    "# Inputs will be given as a string.\n",
    "\n",
    "# Examples\n",
    "\n",
    "# valid_str_number(\"3.2\") ➞ True\n",
    "\n",
    "# valid_str_number(\"324\") ➞ True\n",
    "\n",
    "# valid_str_number(\"54..4\") ➞ False\n",
    "\n",
    "# valid_str_number(\"number\") ➞ False\n",
    "# Notes\n",
    "\n",
    "# Accept numbers such as .5 and 0003."
   ]
  },
  {
   "cell_type": "code",
   "execution_count": 170,
   "metadata": {},
   "outputs": [
    {
     "data": {
      "text/plain": [
       "['0', '0', '0', '0', '0', '0', '0', '0', '0']"
      ]
     },
     "execution_count": 170,
     "metadata": {},
     "output_type": "execute_result"
    }
   ],
   "source": [
    "def longest_zero(s):\n",
    "\treturn max(s.split('1'), key=len)\n",
    "    \n",
    "\n",
    "# Write a function that returns the longest sequence of consecutive zeroes in a binary string.\n",
    "\n",
    "# Examples\n",
    "\n",
    "# longest_zero(\"01100001011000\") ➞ \"0000\"\n",
    "\n",
    "# longest_zero(\"100100100\") ➞ \"00\"\n",
    "\n",
    "# longest_zero(\"11111\") ➞ \"\"\n",
    "# Notes\n",
    "\n",
    "# If no zeroes exist in the input, return an empty string."
   ]
  },
  {
   "cell_type": "code",
   "execution_count": 172,
   "metadata": {},
   "outputs": [
    {
     "data": {
      "text/plain": [
       "['0', '', '0000', '0', '', '000']"
      ]
     },
     "execution_count": 172,
     "metadata": {},
     "output_type": "execute_result"
    }
   ],
   "source": [
    "lst=[1, 2, \"13\", \"4\", \"645\"]\n",
    "def numbers_sum(lst):\n",
    "    return sum([i for i in lst if type(i)==int])\n",
    "\n",
    "#or\n",
    "numbers_sum=lambda lst:sum([i for i in lst if type(i)==int])\n",
    "\n",
    "# Lists can be mixed with various types. Your task for this challenge is to sum all the number elements in the \n",
    "# given list. Create a function that takes a list and returns the sum of all numbers in the list.\n",
    "\n",
    "# Examples\n",
    "\n",
    "# numbers_sum([1, 2, \"13\", \"4\", \"645\"]) ➞ 3\n",
    "\n",
    "# numbers_sum([True, False, \"123\", \"75\"]) ➞ 0\n",
    "\n",
    "# numbers_sum([1, 2, 3, 4, 5, True]) ➞ 15\n",
    "# Notes\n",
    "\n",
    "# Check the Resources tab for help."
   ]
  },
  {
   "cell_type": "code",
   "execution_count": 184,
   "metadata": {},
   "outputs": [
    {
     "name": "stdout",
     "output_type": "stream",
     "text": [
      "{'Very Easy': 89, 'Easy': 77, 'Medium': 30, 'Hard': 4, 'Very Hard': 1}\n"
     ]
    },
    {
     "data": {
      "text/plain": [
       "[89, 77, 30, 4, 1]"
      ]
     },
     "execution_count": 184,
     "metadata": {},
     "output_type": "execute_result"
    }
   ],
   "source": [
    "#outside example\n",
    "# numbers1 = [5, 6, 2, 8]\n",
    "# numbers2 = [7, 1, 4, 9]\n",
    "  \n",
    "# result = map(lambda x, y: x + y, numbers1, numbers2)\n",
    "# print(list(result))\n",
    "#-----\n",
    "\n",
    "get_xp=lambda d:str(sum(map(lambda x, y: x * y, list(d.values()), [5,10,20,40,80])))+'XP' #python 3.6 only, cuz dictonary order\n",
    "\n",
    "#or\n",
    "def get_xp(d):\n",
    "\treturn str(d[\"Very Easy\"]*5 + d[\"Easy\"]*10 + d[\"Medium\"]*20 + d[\"Hard\"]*40 + d[\"Very Hard\"]*80) + \"XP\"\n",
    "\n",
    "\n",
    "\n",
    "# As you complete questions on Edabit, you gain experience points depending on the difficulty of the question. \n",
    "# The points for each difficulty are as follows:\n",
    "\n",
    "# Difficulty\tExperience Points\n",
    "# Very Easy\t5XP\n",
    "# Easy\t10XP\n",
    "# Medium\t20XP\n",
    "# Hard\t40XP\n",
    "# Very Hard\t80XP\n",
    "# Given a dictionary of how many questions a person has completed of each difficulty, return \n",
    "# how many experience points they'll have.\n",
    "\n",
    "# Examples\n",
    "\n",
    "# get_xp({\n",
    "#   \"Very Easy\" : 89,\n",
    "#   \"Easy\" : 77,\n",
    "#   \"Medium\" : 30,\n",
    "#   \"Hard\" : 4,\n",
    "#   \"Very Hard\" : 1\n",
    "# }) ➞ \"2055XP\"\n",
    "\n",
    "\n",
    "# get_xp({\n",
    "#   \"Very Easy\" : 254,\n",
    "#   \"Easy\" : 32,\n",
    "#   \"Medium\" : 65,\n",
    "#   \"Hard\" : 51,\n",
    "#   \"Very Hard\" : 34\n",
    "# }) ➞ \"7650XP\"\n",
    "\n",
    "\n",
    "# get_xp({\n",
    "#   \"Very Easy\" : 11,\n",
    "#   \"Easy\" : 0,\n",
    "#   \"Medium\" : 2,\n",
    "#   \"Hard\" : 0,\n",
    "#   \"Very Hard\" : 27\n",
    "# }) ➞ \"2255XP\"\n",
    "# Notes\n",
    "\n",
    "# Return values as a string and make sure to add \"XP\" to the end."
   ]
  },
  {
   "cell_type": "code",
   "execution_count": 222,
   "metadata": {},
   "outputs": [
    {
     "data": {
      "text/plain": [
       "['right', 'right', 'right', 'right', 'right']"
      ]
     },
     "execution_count": 222,
     "metadata": {},
     "output_type": "execute_result"
    }
   ],
   "source": [
    "spin_around=lambda lst: int(abs(sum([0.25 if lst[i]=='right' else -0.25 for i in range(len(lst))])))\n",
    "# Given a list of directions to spin, \"left\" or \"right\", return an integer of how many full 360° rotations \n",
    "#were made. Note that each word in the list counts as a 90° rotation in that direction.\n",
    "\n",
    "# Worked Example\n",
    "\n",
    "# spin_around([\"right\", \"right\", \"right\", \"right\", \"left\", \"right\"]) ➞ 1\n",
    "# # You spun right 4 times (90 * 4 = 360)\n",
    "# # You spun left once (360 - 90 = 270)\n",
    "# # But you spun right once more to make a full rotation (270 + 90 = 360)\n",
    "# Examples\n",
    "\n",
    "# spin_around([\"left\", \"right\", \"left\", \"right\"]) ➞ 0\n",
    "\n",
    "# spin_around([\"right\", \"right\", \"right\", \"right\", \"right\", \"right\", \"right\", \"right\"]) ➞ 2\n",
    "\n",
    "# spin_around([\"left\", \"left\", \"left\", \"left\"]) ➞ 1\n",
    "# Notes\n",
    "\n",
    "# Return a positive number.\n",
    "# All tests will only include the words \"right\" and \"left\"."
   ]
  },
  {
   "cell_type": "code",
   "execution_count": 252,
   "metadata": {},
   "outputs": [],
   "source": [
    "def hacker_speak(txt):\n",
    "    x='aeios'\n",
    "    y='43105'\n",
    "\n",
    "    for i in range(5):\n",
    "        txt=(txt.replace(x[i],y[i]))\n",
    "    return txt\n",
    "\n",
    "#or\n",
    "def hacker_speak(txt):\n",
    "\treturn txt.translate(str.maketrans('aeios', '43105'))\n",
    "\n",
    "# Create a function that takes a string as an argument and returns a coded (h4ck3r 5p34k) version of the string.\n",
    "\n",
    "# Examples\n",
    "\n",
    "# hacker_speak(\"javascript is cool\") ➞ \"j4v45cr1pt 15 c00l\"\n",
    "\n",
    "# hacker_speak(\"programming is fun\") ➞ \"pr0gr4mm1ng 15 fun\"\n",
    "\n",
    "# hacker_speak(\"become a coder\") ➞ \"b3c0m3 4 c0d3r\"\n",
    "# Notes\n",
    "\n",
    "# In order to work properly, the function should replace all \"a\"s with 4, \"e\"s with 3, \"i\"s with 1, \"o\"s \n",
    "# with 0, and \"s\"s with 5."
   ]
  },
  {
   "cell_type": "code",
   "execution_count": 263,
   "metadata": {},
   "outputs": [],
   "source": [
    "is_triplet=lambda n1,n2,n3:(sorted([n1,n2,n3])[0])**2+(sorted([n1,n2,n3])[1])**2==(sorted([n1,n2,n3])[2])**2\n",
    "\n",
    "# Create a function that validates whether three given integers form a Pythagorean triplet. \n",
    "# The sum of the squares of the two smallest integers must equal the square of the largest number to be validated.\n",
    "\n",
    "# Examples\n",
    "\n",
    "# is_triplet(3, 4, 5) ➞ True\n",
    "# # 3² + 4² = 25\n",
    "# # 5² = 25\n",
    "\n",
    "# is_triplet(13, 5, 12) ➞ True\n",
    "# # 5² + 12² = 169\n",
    "# # 13² = 169\n",
    "\n",
    "# is_triplet(1, 2, 3) ➞ False\n",
    "# # 1² + 2² = 5\n",
    "# # 3² = 9\n",
    "# Notes\n",
    "\n",
    "# Numbers may not be given in a sorted order."
   ]
  },
  {
   "cell_type": "code",
   "execution_count": 272,
   "metadata": {},
   "outputs": [
    {
     "data": {
      "text/plain": [
       "[0, 0]"
      ]
     },
     "execution_count": 272,
     "metadata": {},
     "output_type": "execute_result"
    }
   ],
   "source": [
    "def sum_neg(lst):\n",
    "    if lst==[]:\n",
    "        return []\n",
    "    else:\n",
    "        return [len([i for i in lst if i>0]),sum([i for i in lst if i<0])]\n",
    "\n",
    "\n",
    "# Create a function that takes a list of positive and negative numbers.\n",
    "# Return a list where the first element is the count of positive numbers and the second element \n",
    "#is the sum of negative numbers.\n",
    "\n",
    "# Examples\n",
    "\n",
    "# sum_neg([1, 2, 3, 4, 5, 6, 7, 8, 9, 10, -11, -12, -13, -14, -15]) ➞ [10, -65]\n",
    "# # There are a total of 10 positive numbers.\n",
    "# # The sum of all negative numbers equals -65.\n",
    "\n",
    "# sum_neg([92, 6, 73, -77, 81, -90, 99, 8, -85, 34]) ➞ [7, -252]\n",
    "\n",
    "# sum_neg([91, -4, 80, -73, -28]) ➞ [2, -105]\n",
    "\n",
    "# sum_neg([]) ➞ []\n",
    "# Notes\n",
    "\n",
    "# If given an empty list, return an empty list: []\n",
    "# 0 is not positive."
   ]
  },
  {
   "cell_type": "code",
   "execution_count": 325,
   "metadata": {},
   "outputs": [],
   "source": [
    "is_harshad=lambda num:num!=0 and (num/sum([int(i) for i in str(num)])).is_integer() #if you \n",
    "#switch order of ands you will get 0 division error, so we put n!=0 first to avoid dividing\n",
    "\n",
    "# A number n is a Harshad (also called Niven) number if it is divisible by the sum of its digits.\n",
    "# For example, 666 is divisible by 6 + 6 + 6, so it is a Harshad number.\n",
    "\n",
    "# Write a function to determine whether the given number is a Harshad number.\n",
    "\n",
    "# Examples\n",
    "\n",
    "# is_harshad(209) ➞ True\n",
    "\n",
    "# is_harshad(41) ➞ False\n",
    "\n",
    "# is_harshad(12255) ➞ True\n",
    "# Notes\n",
    "\n",
    "# N/A"
   ]
  },
  {
   "cell_type": "code",
   "execution_count": 350,
   "metadata": {},
   "outputs": [],
   "source": [
    "double_letters=lambda word:any([word[i]==word[i+1] for i in range(len(word)-1)])\n",
    "\n",
    "#or\n",
    "def double_letters(word):\n",
    "\t\treturn any(c1 == c2 for c1, c2 in zip(word, word[1:]))\n",
    "\n",
    "#or\n",
    "double_letters = lambda w: any(x*2 in w for x in w)    \n",
    "\n",
    "# Create a function that takes a word and returns True if the word has two consecutive identical letters.\n",
    "\n",
    "# Examples\n",
    "\n",
    "# double_letters(\"loop\") ➞ True\n",
    "\n",
    "# double_letters(\"yummy\") ➞ True\n",
    "\n",
    "# double_letters(\"orange\") ➞ False\n",
    "\n",
    "# double_letters(\"munchkin\") ➞ False\n",
    "# Notes\n",
    "\n",
    "# N/A"
   ]
  },
  {
   "cell_type": "code",
   "execution_count": 349,
   "metadata": {},
   "outputs": [
    {
     "data": {
      "text/plain": [
       "True"
      ]
     },
     "execution_count": 349,
     "metadata": {},
     "output_type": "execute_result"
    }
   ],
   "source": [
    "parallel_resistance=lambda lst:round(sum(list(map(lambda x: x**-1,lst)))**-1,1)\n",
    "\n",
    "# If two or more resistors are connected in parallel, the overall resistance of the circuit reduces. \n",
    "# It is possible to calculate the total resistance of a parallel circuit by using this formula:\n",
    "\n",
    "# 1/RTotal = 1/R1 + 1/R2 + 1/R3 ...\n",
    "\n",
    "# Create a function that takes a list of parallel resistance values, and \n",
    "# calculates the total resistance of the circuit.\n",
    "\n",
    "# Worked Example\n",
    "\n",
    "# parallel_resistance([6, 3, 6]) ➞ 1.5\n",
    "\n",
    "# # 1/RTotal = 1/6 + 1/3 + 1/6\n",
    "# # 1/RTotal = 2/3\n",
    "# # RTotal = 3/2 = 1.5\n",
    "# Examples\n",
    "\n",
    "# parallel_resistance([6, 3]) ➞ 2\n",
    "\n",
    "# parallel_resistance([10, 20, 10]) ➞ 4\n",
    "\n",
    "# parallel_resistance([500, 500, 500]) ➞ 166.7\n",
    "# # Round to the nearest decimal place\n",
    "# Notes\n",
    "\n",
    "# Note that you should rearrange to return the RTotal, not 1 / RTotal.\n",
    "# Round to the nearest decimal place.\n",
    "# All inputs will be valid."
   ]
  },
  {
   "cell_type": "code",
   "execution_count": 381,
   "metadata": {},
   "outputs": [
    {
     "data": {
      "text/plain": [
       "[1.5, 1.5]"
      ]
     },
     "execution_count": 381,
     "metadata": {},
     "output_type": "execute_result"
    }
   ],
   "source": [
    "flatten_the_curve=lambda lst:[round(sum(lst)/len(lst),1)]*len(lst) if lst != [] else []\n",
    "\n",
    "# Given a list of integers, replace every number with the mean of all numbers.\n",
    "\n",
    "# Examples\n",
    "\n",
    "# flatten_the_curve([1, 2, 3, 4, 5]) ➞ [3, 3, 3, 3, 3]\n",
    "\n",
    "# flatten_the_curve([0, 0, 0, 2, 7, 3]) ➞ [2, 2, 2, 2, 2, 2]\n",
    "\n",
    "# flatten_the_curve([4]) ➞ [4]\n",
    "\n",
    "# flatten_the_curve([]) ➞ []\n",
    "# Notes\n",
    "\n",
    "# Round averages to 1 decimal point.\n",
    "# Return an empty list if given an empty list (see example #4)."
   ]
  },
  {
   "cell_type": "code",
   "execution_count": 411,
   "metadata": {},
   "outputs": [
    {
     "name": "stdout",
     "output_type": "stream",
     "text": [
      "True\n",
      "False\n",
      "True\n",
      "False\n",
      "False\n",
      "False\n",
      "False\n",
      "False\n",
      "False\n",
      "False\n",
      "True\n",
      "False\n",
      "False\n",
      "False\n",
      "False\n",
      "False\n",
      "False\n",
      "False\n",
      "False\n",
      "False\n",
      "False\n",
      "False\n",
      "False\n",
      "False\n",
      "False\n",
      "False\n",
      "False\n",
      "False\n",
      "False\n",
      "False\n",
      "False\n",
      "False\n",
      "True\n"
     ]
    }
   ],
   "source": [
    "factor_group=lambda num:'even' if sum([num%i==0 for i in range(1,num+1)])%2==0 else 'odd'\n",
    "\n",
    "# Create a function that returns \"even\" if a number has an even number of factors and \"odd\" \n",
    "# if a number has an odd number of factors.\n",
    "\n",
    "# Examples\n",
    "\n",
    "# factor_group(33) ➞ \"even\"\n",
    "\n",
    "# factor_group(36) ➞ \"odd\"\n",
    "\n",
    "# factor_group(7) ➞ \"even\"\n",
    "# Notes\n",
    "\n",
    "# You don't need to actually calculate the factors to solve this problem.\n",
    "# Think about why a number would have an odd number of factors."
   ]
  },
  {
   "cell_type": "code",
   "execution_count": 441,
   "metadata": {},
   "outputs": [
    {
     "name": "stdout",
     "output_type": "stream",
     "text": [
      "12\n",
      "8\n",
      "6\n"
     ]
    }
   ],
   "source": [
    "def is_good_match(lst):\n",
    "    try:\n",
    "        return[lst[i]+lst[i+1] for i in range(0,len(lst),2)]\n",
    "    except IndexError:\n",
    "        return \"bad match\"\n",
    "    \n",
    "#or\n",
    "def is_good_match(lst):\n",
    "    return 'bad match' if len(lst) % 2 else [sum(lst[i:i+2]) for i in range(0, len(lst), 2)]\n",
    "\n",
    "\n",
    "# In this challenge you will be given a list of numbers. Your task is to \"marry\" each pair of adjacent \n",
    "# numbers by adding them, and return the list of \"couples\" (i.e. sums).\n",
    "\n",
    "# If the list has an odd length, one number is (sadly) left out, so you should return \"bad match\".\n",
    "\n",
    "# Examples\n",
    "\n",
    "# is_good_match([1, 2, 4, 7]) ➞ [1+2, 4+7] ➞ [3, 11]\n",
    "\n",
    "# is_good_match([5, 7, 9, -1, 4, 2]) ➞ [12, 8, 6]\n",
    "\n",
    "# is_good_match([5, 7, 9, -1, 4, 2, 3]) ➞ \"bad match\"\n",
    "\n",
    "# is_good_match([2, 6, 7, -2, 4]) ➞ \"bad match\"\n",
    "# Notes\n",
    "\n",
    "# N/A"
   ]
  },
  {
   "cell_type": "code",
   "execution_count": 7,
   "metadata": {},
   "outputs": [
    {
     "name": "stdout",
     "output_type": "stream",
     "text": [
      "1\n",
      "2\n",
      "3\n",
      "4\n"
     ]
    },
    {
     "data": {
      "text/plain": [
       "24"
      ]
     },
     "execution_count": 7,
     "metadata": {},
     "output_type": "execute_result"
    }
   ],
   "source": [
    "def multiply_nums(nums):\n",
    "    v=1\n",
    "    for i in nums.split(','):\n",
    "        print(int(i))\n",
    "        v*=int(i)\n",
    "    return v\n",
    "\n",
    "#or\n",
    "def multiply_nums(nums):\n",
    "\treturn eval(nums.replace(', ', '*'))\n",
    "\n",
    "\n",
    "# Given a string of numbers separated by a comma and space, return the product of the numbers.\n",
    "\n",
    "# Examples\n",
    "\n",
    "# multiply_nums(\"2, 3\") ➞ 6\n",
    "\n",
    "# multiply_nums(\"1, 2, 3, 4\") ➞ 24\n",
    "\n",
    "# multiply_nums(\"54, 75, 453, 0\") ➞ 0\n",
    "\n",
    "# multiply_nums(\"10, -2\") ➞ -20\n",
    "# Notes\n",
    "\n",
    "# Bonus: Try to complete this challenge in one line!"
   ]
  },
  {
   "cell_type": "code",
   "execution_count": 40,
   "metadata": {},
   "outputs": [
    {
     "name": "stdout",
     "output_type": "stream",
     "text": [
      "o\n",
      "l\n",
      "l\n",
      "e\n",
      "h\n"
     ]
    },
    {
     "data": {
      "text/plain": [
       "'olleh'"
      ]
     },
     "execution_count": 40,
     "metadata": {},
     "output_type": "execute_result"
    }
   ],
   "source": [
    "reverse=lambda txt:''.join([txt[-1-i] for i in range(len(txt))])\n",
    "# Write a function that reverses a string. Make your function recursive.\n",
    "\n",
    "# Examples\n",
    "\n",
    "# reverse(\"hello\") ➞ \"olleh\"\n",
    "\n",
    "# reverse(\"world\") ➞ \"dlrow\"\n",
    "\n",
    "# reverse(\"a\") ➞ \"a\"\n",
    "\n",
    "# reverse(\"\") ➞ \"\"\n",
    "# Notes\n",
    "\n",
    "# For non-base cases, your function must call itself at least once.\n",
    "# Check the Resources tab for info on recursion."
   ]
  },
  {
   "cell_type": "code",
   "execution_count": 55,
   "metadata": {},
   "outputs": [
    {
     "data": {
      "text/plain": [
       "True"
      ]
     },
     "execution_count": 55,
     "metadata": {},
     "output_type": "execute_result"
    }
   ],
   "source": [
    "n=21\n",
    "one_odd_one_even=lambda n:((n//10)%2!=0 and (n%10)%2==0) or ((n//10)%2==0 and (n%10)%2!=0)\n",
    "\n",
    "#or\n",
    "def one_odd_one_even(n):\n",
    "\treturn n//10%2 != n%10%2\n",
    "\n",
    "# Given a two digit number, return True if that number contains one even and one odd digit.\n",
    "\n",
    "# Examples\n",
    "\n",
    "# one_odd_one_even(12) ➞ True\n",
    "\n",
    "# one_odd_one_even(55) ➞ False\n",
    "\n",
    "# one_odd_one_even(22) ➞ False\n",
    "# Notes\n",
    "\n",
    "# N/A"
   ]
  },
  {
   "cell_type": "code",
   "execution_count": 60,
   "metadata": {},
   "outputs": [],
   "source": [
    "damage, speed, time = 40, 5, \"second\"\n",
    "[1,60,60*60]\n",
    "\n",
    "def damage(damage, speed, time):\n",
    "\tif damage < 0 or speed <0 :\n",
    "\t\t\treturn 'invalid'\n",
    "\telif time=='second':\n",
    "\t\t\treturn damage*speed\n",
    "\telif time =='minute':\n",
    "\t\t\treturn damage*speed*60\n",
    "\telse:\n",
    "\t\t\treturn damage*speed*60*60\n",
    "\t\n",
    "\n",
    "#or\n",
    "def damage(damage, speed, time):\n",
    "\tsecs = {'second':1, 'minute':60, 'hour':3600}\n",
    "\tans = damage*speed*secs[time]\n",
    "\treturn ans if ans>0 and speed>0 else 'invalid'\n",
    "    \n",
    "\n",
    "# Create a function that takes damage and speed (attacks per second) and returns the amount of damage after a\n",
    "# given time.\n",
    "\n",
    "# Examples\n",
    "\n",
    "# damage(40, 5, \"second\") ➞ 200\n",
    "\n",
    "# damage(100, 1, \"minute\") ➞ 6000\n",
    "\n",
    "# damage(2, 100, \"hour\") ➞ 720000\n",
    "# Notes\n",
    "\n",
    "# Return \"invalid\" if damage or speed is negative."
   ]
  },
  {
   "cell_type": "code",
   "execution_count": 84,
   "metadata": {},
   "outputs": [
    {
     "name": "stdout",
     "output_type": "stream",
     "text": [
      "1 i\n",
      "2 v\n",
      "2 i\n",
      "6 v\n",
      "3 i\n",
      "12 v\n"
     ]
    },
    {
     "data": {
      "text/plain": [
       "[2, 4, 6]"
      ]
     },
     "execution_count": 84,
     "metadata": {},
     "output_type": "execute_result"
    }
   ],
   "source": [
    "def doubled_pay(n):\n",
    "\treturn 2**n - 1\n",
    "\n",
    "# An employee working at a very bizzare company, earns one penny on their first day. \n",
    "# However, for every day that passes, their base amount doubles, so they earn two pennies on the second \n",
    "# day and four pennies on the third day (totalling 7 pennies).\n",
    "# Given a number of days, return how many pennies the employee accumulates.\n",
    "\n",
    "# Examples\n",
    "\n",
    "# doubled_pay(1) ➞ 1\n",
    "\n",
    "# doubled_pay(2) ➞ 3\n",
    "\n",
    "# doubled_pay(3) ➞ 7\n",
    "# Notes\n",
    "\n",
    "# You will only get tests for valid positive integers."
   ]
  },
  {
   "cell_type": "code",
   "execution_count": 128,
   "metadata": {},
   "outputs": [
    {
     "name": "stdout",
     "output_type": "stream",
     "text": [
      "[[1, 2], [5, 6], [3, 4]]\n",
      "[[1, 2], [3, 4], [5, 6]]\n"
     ]
    }
   ],
   "source": [
    "def tuck_in(lst1, lst2):\n",
    "\tlst1.extend(lst2)\n",
    "\tlst1.insert(len(lst1)+len(lst2), lst1.pop(1))\n",
    "\treturn lst1\n",
    "\n",
    "#or\n",
    "def tuck_in(lst1, lst2):\n",
    "    return lst1[:1] + lst2 + lst1[-1:]\n",
    "\n",
    "#external example\n",
    "# a = [1, 2, 3]\n",
    "# b = [10, 20]\n",
    "\n",
    "# a.append(b) # Output: [1, 2, 3, [10, 20]]\n",
    "# a.extend(b) # Output: [1, 2, 3, 10, 20]\n",
    "#external example\n",
    "#l.insert(newindex, l.pop(oldindex))\n",
    "\n",
    "# Create a function that takes two lists and insert the second list in the middle of the first list.\n",
    "\n",
    "# Examples\n",
    "\n",
    "# tuck_in([1, 10], [2, 3, 4, 5, 6, 7, 8, 9]) ➞ [1, 2, 3, 4, 5, 6, 7, 8, 9, 10]\n",
    "\n",
    "# tuck_in([15,150], [45, 75, 35]) ➞ [15, 45, 75, 35, 150]\n",
    "\n",
    "# tuck_in([[1, 2], [5, 6]], [[3, 4]]) ➞ [[1, 2], [3, 4], [5, 6]]\n",
    "# Notes\n",
    "\n",
    "# The first list always has two elements."
   ]
  },
  {
   "cell_type": "code",
   "execution_count": 157,
   "metadata": {},
   "outputs": [
    {
     "data": {
      "text/plain": [
       "'<li></li><li></li><li></li>'"
      ]
     },
     "execution_count": 157,
     "metadata": {},
     "output_type": "execute_result"
    }
   ],
   "source": [
    "secret=lambda text:('<'+text.split('*')[0]+'>'+'</'+text.split('*')[0]+'>')*eval(text.split('*')[1])\n",
    "\n",
    "def secret(text):\n",
    "    return \"<{0}></{0}>\".format(text.split(\"*\")[0]) * int(text[-1])\n",
    "#we number the {} because we have multiple {}, i.e\n",
    "#txt2 = \"My name is {0}, I'm {1}\".format(\"John\",36)\n",
    "\n",
    "\n",
    "\n",
    "# Create a function based on the input and output. Look at the examples, there is a pattern.\n",
    "\n",
    "# Examples\n",
    "\n",
    "# secret(\"div*2\") ➞ \"<div></div><div></div>\"\n",
    "\n",
    "# secret(\"p*1\") ➞ \"<p></p>\"\n",
    "\n",
    "# secret(\"li*3\") ➞ \"<li></li><li></li><li></li>\"\n",
    "# Notes\n",
    "\n",
    "# Input is a string."
   ]
  },
  {
   "cell_type": "code",
   "execution_count": 179,
   "metadata": {},
   "outputs": [
    {
     "ename": "SyntaxError",
     "evalue": "unmatched ')' (<string>, line 1)",
     "output_type": "error",
     "traceback": [
      "Traceback \u001b[0;36m(most recent call last)\u001b[0m:\n",
      "  File \u001b[1;32m\"/opt/anaconda3/lib/python3.8/site-packages/IPython/core/interactiveshell.py\"\u001b[0m, line \u001b[1;32m3343\u001b[0m, in \u001b[1;35mrun_code\u001b[0m\n    exec(code_obj, self.user_global_ns, self.user_ns)\n",
      "\u001b[0;36m  File \u001b[0;32m\"<ipython-input-179-b80011d8071b>\"\u001b[0;36m, line \u001b[0;32m4\u001b[0;36m, in \u001b[0;35m<module>\u001b[0;36m\u001b[0m\n\u001b[0;31m    eval(expr.split('/')[-1]) == 0 and '/' in expr\u001b[0m\n",
      "\u001b[0;36m  File \u001b[0;32m\"<string>\"\u001b[0;36m, line \u001b[0;32m1\u001b[0m\n\u001b[0;31m    (3 - 3))\u001b[0m\n\u001b[0m           ^\u001b[0m\n\u001b[0;31mSyntaxError\u001b[0m\u001b[0;31m:\u001b[0m unmatched ')'\n"
     ]
    }
   ],
   "source": [
    "def catch_zero_division(expr):\n",
    "    try:\n",
    "        return type(eval(expr))!=int and type(eval(expr))!= float\n",
    "    except ZeroDivisionError:\n",
    "        return True\n",
    "    \n",
    "#or\n",
    "def catch_zero_division(expr):\n",
    "\ttry: eval(expr)\n",
    "\texcept: return True\n",
    "\treturn False\n",
    "\n",
    "# Dividing by 0 is a huge mistake and should be avoided at all costs.\n",
    "\n",
    "# Create a function that when given a math expression as a string, return True if at any point, the expression involves dividing by 0.\n",
    "\n",
    "# Examples\n",
    "\n",
    "# catch_zero_division(\"2 / 0\") ➞ True\n",
    "\n",
    "# catch_zero_division(\"4 / (2 + 3 - 5)\") ➞ True\n",
    "\n",
    "# catch_zero_division(\"2 * 5 - 10\") ➞ False\n",
    "# Notes\n",
    "\n",
    "# Multiplication signs will be given as an asterisk *."
   ]
  },
  {
   "cell_type": "code",
   "execution_count": 242,
   "metadata": {},
   "outputs": [
    {
     "data": {
      "text/plain": [
       "True"
      ]
     },
     "execution_count": 242,
     "metadata": {},
     "output_type": "execute_result"
    }
   ],
   "source": [
    "# a,b,v=[1,2,3], [10,20,30,40,50], 42\n",
    "\n",
    "# h=[]\n",
    "# for i in b:\n",
    "#     #print(i)\n",
    "#     for j in a:\n",
    "#         #print(j,'a')\n",
    "#         h.append(i+j==v)\n",
    "\n",
    "# any(h)\n",
    "\n",
    "\n",
    "sum_of_two= lambda a, b, v:any([i+j==v for i in b for j in a])\n",
    "\n",
    "\n",
    "# Given two unique integer lists a and b, and an integer target value v, create a function to determine \n",
    "# whether there is a pair of numbers that add up to the target value v, \n",
    "# where one number comes from one list a and the other comes from the second list b.\n",
    "\n",
    "# Return True if there is a pair that adds up to the target value and False otherwise.\n",
    "\n",
    "# Examples\n",
    "\n",
    "# sum_of_two([1, 2], [4, 5, 6], 5) ➞ True\n",
    "\n",
    "# sum_of_two([1, 2], [4, 5, 6], 8) ➞ True\n",
    "\n",
    "# sum_of_two([1, 2], [4, 5, 6], 3) ➞ False\n",
    "\n",
    "# sum_of_two([1, 2], [4, 5, 6], 9) ➞ False"
   ]
  },
  {
   "cell_type": "code",
   "execution_count": 253,
   "metadata": {},
   "outputs": [
    {
     "data": {
      "text/plain": [
       "True"
      ]
     },
     "execution_count": 253,
     "metadata": {},
     "output_type": "execute_result"
    }
   ],
   "source": [
    "\n"
   ]
  },
  {
   "cell_type": "code",
   "execution_count": null,
   "metadata": {},
   "outputs": [],
   "source": []
  }
 ],
 "metadata": {
  "kernelspec": {
   "display_name": "Python 3",
   "language": "python",
   "name": "python3"
  },
  "language_info": {
   "codemirror_mode": {
    "name": "ipython",
    "version": 3
   },
   "file_extension": ".py",
   "mimetype": "text/x-python",
   "name": "python",
   "nbconvert_exporter": "python",
   "pygments_lexer": "ipython3",
   "version": "3.8.3"
  }
 },
 "nbformat": 4,
 "nbformat_minor": 4
}
