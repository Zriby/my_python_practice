{
 "cells": [
  {
   "cell_type": "code",
   "execution_count": null,
   "metadata": {},
   "outputs": [],
   "source": [
    "# x**n is X^n"
   ]
  },
  {
   "cell_type": "code",
   "execution_count": null,
   "metadata": {},
   "outputs": [],
   "source": [
    "# type() tells you type of element "
   ]
  },
  {
   "cell_type": "code",
   "execution_count": null,
   "metadata": {},
   "outputs": [],
   "source": [
    "# if you did a element assignment mistake then restart the kernel "
   ]
  },
  {
   "cell_type": "code",
   "execution_count": null,
   "metadata": {},
   "outputs": [],
   "source": [
    "# you can use '' or \"\" for strings"
   ]
  },
  {
   "cell_type": "code",
   "execution_count": null,
   "metadata": {},
   "outputs": [],
   "source": [
    "# indexing is when you want to grab a single character from a string. Indexing starts from 0"
   ]
  },
  {
   "cell_type": "code",
   "execution_count": null,
   "metadata": {},
   "outputs": [],
   "source": [
    "# to grab the last index you can do x[-1]"
   ]
  },
  {
   "cell_type": "code",
   "execution_count": null,
   "metadata": {},
   "outputs": [],
   "source": [
    "#slicings let you grab a subsection of characters x[start:stop:step]"
   ]
  },
  {
   "cell_type": "code",
   "execution_count": null,
   "metadata": {},
   "outputs": [],
   "source": [
    "\"Hi1\" #how do we print Hi1 as well?\n",
    "\"Hi2\""
   ]
  },
  {
   "cell_type": "code",
   "execution_count": null,
   "metadata": {},
   "outputs": [],
   "source": [
    "print(\"Hi1\") #use print\n",
    "print(\"Hi2\")"
   ]
  },
  {
   "cell_type": "code",
   "execution_count": null,
   "metadata": {},
   "outputs": [],
   "source": [
    "print('line1\\nline2') # \\n means new line"
   ]
  },
  {
   "cell_type": "code",
   "execution_count": null,
   "metadata": {},
   "outputs": [],
   "source": [
    "#len() gives you the length of the string \n",
    "len('four')"
   ]
  },
  {
   "cell_type": "code",
   "execution_count": null,
   "metadata": {},
   "outputs": [],
   "source": [
    "#immutability means cannot be changed, strings are immutable\n",
    "# you cannot reassign string letter\n",
    "name='sam'\n",
    "name[0]='P'"
   ]
  },
  {
   "cell_type": "code",
   "execution_count": null,
   "metadata": {},
   "outputs": [],
   "source": [
    "# we can do string slicing though\n",
    "last_name=name[1:] #start at index 1 and go all the way to the end"
   ]
  },
  {
   "cell_type": "code",
   "execution_count": null,
   "metadata": {},
   "outputs": [],
   "source": [
    "#To concatenate\n",
    "new_name='P'+last_name\n",
    "print(new_name)\n"
   ]
  },
  {
   "cell_type": "code",
   "execution_count": null,
   "metadata": {},
   "outputs": [],
   "source": [
    "#to print letter multiple times:\n",
    "'z'*10"
   ]
  },
  {
   "cell_type": "code",
   "execution_count": null,
   "metadata": {},
   "outputs": [],
   "source": [
    "#how to capitlize something\n",
    "x=\"what the\"\n",
    "x.upper()"
   ]
  },
  {
   "cell_type": "code",
   "execution_count": null,
   "metadata": {},
   "outputs": [],
   "source": [
    "x.split() # create a list from a string and splits at the space"
   ]
  },
  {
   "cell_type": "code",
   "execution_count": null,
   "metadata": {},
   "outputs": [],
   "source": [
    "x.split('a')"
   ]
  },
  {
   "cell_type": "code",
   "execution_count": null,
   "metadata": {},
   "outputs": [],
   "source": [
    "print('This is a string {}'.format('INSERTED')) #print formatting "
   ]
  },
  {
   "cell_type": "code",
   "execution_count": null,
   "metadata": {},
   "outputs": [],
   "source": [
    "print('The {} {} {}'.format('fox','brown','quick'))\n",
    "print('The {2} {1} {0}'.format('fox','brown','quick'))\n",
    "print('The {2} {2} {2}'.format('fox','brown','quick'))\n",
    "print('The {q} {b} {f}'.format(f='fox',b='brown',q='quick'))"
   ]
  },
  {
   "cell_type": "code",
   "execution_count": null,
   "metadata": {},
   "outputs": [],
   "source": [
    "#float formatting \n",
    "result = 100/777\n",
    "print(result)\n",
    "print('the result was {r}'.format(r=result))\n",
    "print('the result was {r:20}'.format(r=result)) #width space\n",
    "print('the result was {r:20.3f}'.format(r=result)) #3 decimal points\n"
   ]
  },
  {
   "cell_type": "code",
   "execution_count": null,
   "metadata": {},
   "outputs": [],
   "source": [
    "#another method\n",
    "name ='Jose'\n",
    "age=18\n",
    "print(f'Hello, his name is {name} and is {age} years old')"
   ]
  },
  {
   "cell_type": "code",
   "execution_count": null,
   "metadata": {},
   "outputs": [],
   "source": [
    "#lists are ordered sequences that can hold a variety of object types\n",
    "my_list=['String',100,23.2]\n",
    "len(my_list) # shows you number of elements in a string\n"
   ]
  },
  {
   "cell_type": "code",
   "execution_count": null,
   "metadata": {},
   "outputs": [],
   "source": [
    "my_list[-1] #indexing and slicing also works in lists"
   ]
  },
  {
   "cell_type": "code",
   "execution_count": null,
   "metadata": {},
   "outputs": [],
   "source": [
    "my_list1=[1,2]\n",
    "my_list2=[3,4]\n",
    "mylist=my_list1+my_list2 #you can also concatenate lists\n",
    "mylist"
   ]
  },
  {
   "cell_type": "code",
   "execution_count": null,
   "metadata": {},
   "outputs": [],
   "source": [
    "mylist[0]=100\n",
    "mylist #list is mutable \n"
   ]
  },
  {
   "cell_type": "code",
   "execution_count": null,
   "metadata": {},
   "outputs": [],
   "source": [
    "mylist.append(3) #add item to end of list \n",
    "mylist"
   ]
  },
  {
   "cell_type": "code",
   "execution_count": null,
   "metadata": {},
   "outputs": [],
   "source": [
    "mylist.pop() # removes the last item in a list\n",
    "mylist"
   ]
  },
  {
   "cell_type": "code",
   "execution_count": null,
   "metadata": {},
   "outputs": [],
   "source": [
    "mylist.pop(0) # removes first item in the list\n",
    "mylist"
   ]
  },
  {
   "cell_type": "code",
   "execution_count": null,
   "metadata": {},
   "outputs": [],
   "source": [
    "newlist=['c','b','a']\n",
    "print(newlist)\n",
    "newlist.sort()\n",
    "print(newlist)\n",
    "newlist.reverse()\n",
    "print(newlist)"
   ]
  },
  {
   "cell_type": "code",
   "execution_count": null,
   "metadata": {},
   "outputs": [],
   "source": [
    "#dictinaries are unordered mappings for storing objects.\n",
    "#Previously we saw how lists store objects in an ordered sequence,dictionaries use a key-value pairing instead.\n",
    "#This key-value pair allows users to quickly grab objects without needing to know an index location \n",
    "#object retrieved by key name \n",
    "my_dict= {'apple':1.99,'orange':2.5}\n",
    "print(my_dict)\n",
    "print(my_dict['apple'])\n"
   ]
  },
  {
   "cell_type": "code",
   "execution_count": null,
   "metadata": {},
   "outputs": [],
   "source": [
    "d={'k1':123,'k2':[0,1,2],'k3':{'insidekey':100}}\n",
    "print(d)\n",
    "print(d['k2']) #list\n",
    "print(d['k2'][1]) #integer\n",
    "print(d['k3'])\n",
    "print(d['k3']['insidekey'])\n",
    "d['k1']=999 #alter a key value \n",
    "print(d)"
   ]
  },
  {
   "cell_type": "code",
   "execution_count": null,
   "metadata": {},
   "outputs": [],
   "source": [
    "print(d.keys()) # shows all the keys\n",
    "print(d.values()) #shows all the values\n",
    "print(d.items()) #shows the pairings"
   ]
  },
  {
   "cell_type": "code",
   "execution_count": null,
   "metadata": {},
   "outputs": [],
   "source": [
    "#Tuples are similair to lists, however they have one key difference - immutability. \n",
    "#Once an element is inside a tuple, it cannot be changed \n",
    "t=(1,1,'c','d','d')\n",
    "print(t)\n",
    "print(t[0])\n",
    "print(t.count(1)) #counts how many times 1 occurs in tuple\n",
    "print(t.index('d')) #shows you when first c index appears\n",
    "t[0]=2 #it is immutable "
   ]
  },
  {
   "cell_type": "code",
   "execution_count": null,
   "metadata": {},
   "outputs": [],
   "source": [
    "#sets are unordered collections of unique elements\n",
    "myset =set()\n",
    "print(myset)\n",
    "print(myset.add(1))\n",
    "print(myset)\n",
    "myset.add(2)\n",
    "print(myset)\n",
    "myset.add(2)\n",
    "print(myset) #you can't add same values\n"
   ]
  },
  {
   "cell_type": "code",
   "execution_count": null,
   "metadata": {},
   "outputs": [],
   "source": [
    "mylist=[1,2,2,3,3,3]\n",
    "print(mylist)\n",
    "set(mylist)\n",
    "print(set(mylist))"
   ]
  },
  {
   "cell_type": "code",
   "execution_count": null,
   "metadata": {},
   "outputs": [],
   "source": [
    "#booleans or bools are operators that allow you to convey True or False statements \n",
    "type(True)\n"
   ]
  },
  {
   "cell_type": "code",
   "execution_count": null,
   "metadata": {},
   "outputs": [],
   "source": [
    "1>2"
   ]
  },
  {
   "cell_type": "code",
   "execution_count": null,
   "metadata": {},
   "outputs": [],
   "source": [
    "1 ==1"
   ]
  },
  {
   "cell_type": "code",
   "execution_count": null,
   "metadata": {},
   "outputs": [],
   "source": [
    "b = None # none data type\n",
    "print(b)"
   ]
  },
  {
   "cell_type": "code",
   "execution_count": null,
   "metadata": {},
   "outputs": [],
   "source": [
    "%%writefile myfile.txt #create a text file\n",
    "line1\n",
    "line2\n",
    "line3"
   ]
  },
  {
   "cell_type": "code",
   "execution_count": null,
   "metadata": {},
   "outputs": [],
   "source": [
    "myfile =open('myfile.txt') #open file you created in jupyer"
   ]
  },
  {
   "cell_type": "code",
   "execution_count": null,
   "metadata": {},
   "outputs": [],
   "source": [
    "pwd #shows you location of this file you are using "
   ]
  },
  {
   "cell_type": "code",
   "execution_count": null,
   "metadata": {},
   "outputs": [],
   "source": [
    "myfile.read() # read what is inside of the notepad"
   ]
  },
  {
   "cell_type": "code",
   "execution_count": null,
   "metadata": {},
   "outputs": [],
   "source": [
    "myfile.read() #reading at end of text file"
   ]
  },
  {
   "cell_type": "code",
   "execution_count": null,
   "metadata": {},
   "outputs": [],
   "source": [
    "myfile.seek(0) #begins reading file from first line\n",
    "myfile.read()"
   ]
  },
  {
   "cell_type": "code",
   "execution_count": null,
   "metadata": {},
   "outputs": [],
   "source": [
    "myfile.seek(0) # save file contents in a string\n",
    "newstring=myfile.read()\n",
    "newstring"
   ]
  },
  {
   "cell_type": "code",
   "execution_count": null,
   "metadata": {},
   "outputs": [],
   "source": [
    "myfile.seek(0) #put each line in a seperate element in a list\n",
    "myfile.readlines()"
   ]
  },
  {
   "cell_type": "code",
   "execution_count": null,
   "metadata": {},
   "outputs": [],
   "source": [
    "myfile.close() # best pracitice is to close the file, so not to get errors, and you can delete it"
   ]
  },
  {
   "cell_type": "code",
   "execution_count": null,
   "metadata": {},
   "outputs": [],
   "source": [
    "#if I don't want to open and close file, I can use another method\n",
    "with open('myfile.txt') as my_new_file:\n",
    "    contents = my_new_file.read()\n"
   ]
  },
  {
   "cell_type": "code",
   "execution_count": null,
   "metadata": {},
   "outputs": [],
   "source": [
    "print(contents)"
   ]
  },
  {
   "cell_type": "code",
   "execution_count": null,
   "metadata": {},
   "outputs": [],
   "source": [
    "#shift tab open up information of defined python functions "
   ]
  },
  {
   "cell_type": "code",
   "execution_count": null,
   "metadata": {},
   "outputs": [],
   "source": [
    "with open('myfile.txt',mode='w') as myfile: #write to a file , before it was mode='r'"
   ]
  },
  {
   "cell_type": "code",
   "execution_count": null,
   "metadata": {},
   "outputs": [],
   "source": [
    "1>2 and 3>1 #chaining comparision operators "
   ]
  },
  {
   "cell_type": "code",
   "execution_count": null,
   "metadata": {},
   "outputs": [],
   "source": [
    "1>2 or 3>1"
   ]
  },
  {
   "cell_type": "code",
   "execution_count": null,
   "metadata": {},
   "outputs": [],
   "source": [
    "1>2 or 3>1 or 4<19"
   ]
  },
  {
   "cell_type": "code",
   "execution_count": null,
   "metadata": {},
   "outputs": [],
   "source": [
    "'h'=='H' and 2==2"
   ]
  },
  {
   "cell_type": "markdown",
   "metadata": {},
   "source": [
    "\n",
    "# <font color='red'>These Are Examples for Practice</font> \n"
   ]
  },
  {
   "cell_type": "code",
   "execution_count": null,
   "metadata": {},
   "outputs": [],
   "source": [
    "#examples\n",
    "def addition(a,b): #a function that adds 2 numbers\n",
    "\treturn a+b\n",
    "\n",
    "a=1\n",
    "b=2\n",
    "addition(a,b)"
   ]
  },
  {
   "cell_type": "code",
   "execution_count": null,
   "metadata": {},
   "outputs": [],
   "source": [
    "def stutter(word):\n",
    "    return (word[:2]+\"... \")*2 +word+\"?\"\n",
    "\n",
    "\n",
    "word=\"hello\"\n",
    "stutter(word)\n",
    "\n",
    "#output\n",
    "#stutter(\"incredible\") ➞ \"in... in... incredible?\"\n",
    "\n",
    "#stutter(\"enthusiastic\") ➞ \"en... en... enthusiastic?\"\n",
    "\n",
    "#stutter(\"outstanding\") ➞ \"ou... ou... outstanding?\""
   ]
  },
  {
   "cell_type": "code",
   "execution_count": null,
   "metadata": {},
   "outputs": [],
   "source": [
    "from math import pi\n",
    "\n",
    "def radians_to_degrees(rad):\n",
    "    return round(rad*(180/pi),1)\n",
    "\n",
    "rad=1\n",
    "radians_to_degrees(rad)\n",
    "\n",
    "#radians_to_degrees(1) ➞ 57.3\n",
    "\n",
    "#radians_to_degrees(20) ➞ 1145.9\n",
    "\n",
    "#radians_to_degrees(50) ➞ 2864.8"
   ]
  },
  {
   "cell_type": "code",
   "execution_count": null,
   "metadata": {},
   "outputs": [],
   "source": [
    "def is_curzon(num):\n",
    "    a=2**num+1\n",
    "    b=2*num+1\n",
    "    if a%b == 0:\n",
    "         return True\n",
    "    else:\n",
    "         return False\n",
    "        \n",
    "\n",
    "num=5\n",
    "is_curzon(num)\n",
    "\n",
    "#is_curzon(5) ➞ True\n",
    "# 2 ** 5 + 1 = 33\n",
    "# 2 * 5 + 1 = 11\n",
    "# 33 is a multiple of 11\n",
    "\n",
    "#is_curzon(10) ➞ False\n",
    "# 2 ** 10 + 1 = 1025\n",
    "# 2 * 10 + 1 = 21\n",
    "# 1025 is not a multiple of 21\n",
    "\n",
    "#is_curzon(14) ➞ True\n",
    "# 2 ** 14 + 1 = 16385\n",
    "# 2 * 14 + 1 = 29\n",
    "# 16385 is a multiple of 29"
   ]
  },
  {
   "cell_type": "code",
   "execution_count": null,
   "metadata": {},
   "outputs": [],
   "source": [
    "def relation_to_luke(name):\n",
    "\trelations = {\n",
    "\t\t'Darth Vader' : 'father',\n",
    "\t\t'Leia' : 'sister',\n",
    "\t\t'Han' : 'brother in law',\n",
    "\t\t'R2D2' : 'droid'\n",
    "\t}\n",
    "\treturn 'Luke, I am your ' + relations[name] + '.'\n",
    "\n",
    "name=\"Leia\"\n",
    "relation_to_luke(name)\n",
    "\n",
    "#Luke Skywalker has family and friends. Help him remind them who is who. \n",
    "#Given a string with a name, return the relation of that person to Luke.\n",
    "\n",
    "# Person\tRelation\n",
    "# Darth Vader\tfather\n",
    "# Leia\tsister\n",
    "# Han\tbrother in law\n",
    "# R2D2\tdroid\n",
    "\n",
    "# relation_to_luke(\"Darth Vader\") ➞ \"Luke, I am your father.\"\n",
    "\n",
    "# relation_to_luke(\"Leia\") ➞ \"Luke, I am your sister.\"\n",
    "\n",
    "# relation_to_luke(\"Han\") ➞ \"Luke, I am your brother in law.\"\n"
   ]
  },
  {
   "cell_type": "code",
   "execution_count": null,
   "metadata": {},
   "outputs": [],
   "source": [
    "def calculator(n1, operator, n2):\n",
    "\ttry: \n",
    "\t\treturn eval(str(n1)+operator+str(n2)) #operator is string by default ,eval solves strings\n",
    "\texcept ZeroDivisionError:\n",
    "\t\treturn \"Can't divide by 0!\"\n",
    "    \n",
    "n1=5\n",
    "n2=0\n",
    "operator=\"/\"\n",
    "calculator(n1, operator, n2)\n",
    "    \n",
    "#Create a function that takes two numbers and a mathematical operator + - / * and \n",
    "#will perform a calculation with the given numbers.\n",
    "\n",
    "# Examples\n",
    "\n",
    "# calculator(2, \"+\", 2) ➞ 4\n",
    "\n",
    "# calculator(2, \"*\", 2) ➞ 4\n",
    "\n",
    "# calculator(4, \"/\", 2) ➞ 2\n",
    "# Notes\n",
    "\n",
    "# If the input tries to divide by 0, return: \"Can't divide by 0!\""
   ]
  },
  {
   "cell_type": "code",
   "execution_count": null,
   "metadata": {},
   "outputs": [],
   "source": [
    "def factorial(n):\n",
    "    if n==0:\n",
    "        return(1)\n",
    "    \n",
    "    v=1\n",
    "    for i in range(1,n+1):\n",
    "        v*=i\n",
    "    return(v)\n",
    "    \n",
    "n=0\n",
    "factorial(n)\n",
    "\n",
    "# Create a function that takes an integer and returns the factorial of that integer. \n",
    "#That is, the integer multiplied by all positive lower integers.\n",
    "\n",
    "# Examples\n",
    "\n",
    "# factorial(3) ➞ 6\n",
    "\n",
    "# factorial(5) ➞ 120\n",
    "\n",
    "# factorial(13) ➞ 6227020800\n",
    "# Notes\n",
    "\n",
    "# Assume all inputs are greater than or equal to 0."
   ]
  },
  {
   "cell_type": "code",
   "execution_count": null,
   "metadata": {},
   "outputs": [],
   "source": [
    "def mood_today(mood = 'neutral'):\n",
    "\treturn 'Today, I am feeling '+ mood \n",
    "\n",
    "    \n",
    "#Create a function that takes in a current mood and return a sentence in the following format:\n",
    "#\"Today, I am feeling {mood}\". However, if no argument is passed, return \"Today, I am feeling neutral\".\n",
    "\n",
    "#Examples\n",
    "\n",
    "#mood_today(\"happy\") ➞ \"Today, I am feeling happy\"\n",
    "\n",
    "#mood_today(\"sad\") ➞ \"Today, I am feeling sad\"\n",
    "\n",
    "#mood_today() ➞ \"Today, I am feeling neutral\"\n",
    "    "
   ]
  },
  {
   "cell_type": "code",
   "execution_count": 616,
   "metadata": {},
   "outputs": [
    {
     "data": {
      "text/plain": [
       "'100'"
      ]
     },
     "execution_count": 616,
     "metadata": {},
     "output_type": "execute_result"
    }
   ],
   "source": [
    "def binary(decimal):\n",
    "    if decimal ==0:\n",
    "        return '0'\n",
    "    l=[]\n",
    "\n",
    "    while decimal > 0:\n",
    "        i=decimal%2\n",
    "        decimal=decimal//2 #divides without giving decimal values\n",
    "        l.append(i)\n",
    "\n",
    "    l.reverse()\n",
    "    l\n",
    "    num2bin = ''.join(str(e) for e in l) \n",
    "    return(num2bin) \n",
    "\n",
    "decimal=4\n",
    "binary(decimal)\n",
    "\n",
    "#Convert a Number to Base-2"
   ]
  },
  {
   "cell_type": "code",
   "execution_count": 91,
   "metadata": {},
   "outputs": [
    {
     "name": "stdout",
     "output_type": "stream",
     "text": [
      "Enter date in YYYY-MM-DD format: 2021-5-5\n"
     ]
    },
    {
     "data": {
      "text/plain": [
       "False"
      ]
     },
     "execution_count": 91,
     "metadata": {},
     "output_type": "execute_result"
    }
   ],
   "source": [
    "import datetime\n",
    "\n",
    "def time_for_milk_and_cookies(date):\n",
    "    return date.month == 12 and date.day == 24\n",
    "\n",
    "date = input(\"Enter date in YYYY-MM-DD format: \")\n",
    "year, month, day = map(int, date.split('-'))\n",
    "date = datetime.date(year, month, day)\n",
    "\n",
    "time_for_milk_and_cookies(date)\n",
    "\n",
    "\n",
    "# Christmas Eve is almost upon us, so naturally we need to prepare some milk and cookies for Santa!\n",
    "#Create a function that accepts a Date object and \n",
    "#returns True if it's Christmas Eve (December 24th) and False otherwise.\n",
    "\n",
    "# Examples\n",
    "\n",
    "# time_for_milk_and_cookies(datetime.date(2013, 12, 24)) ➞ True\n",
    "\n",
    "# time_for_milk_and_cookies(datetime.date(2013, 1, 23)) ➞ False\n",
    "\n",
    "# time_for_milk_and_cookies(datetime.date(3000, 12, 24)) ➞ True\n",
    "# Notes\n",
    "\n",
    "# All test cases contain valid dates."
   ]
  },
  {
   "cell_type": "code",
   "execution_count": null,
   "metadata": {},
   "outputs": [],
   "source": [
    "def count_ones(num):\n",
    "    \n",
    "    count=0\n",
    "    l=[]\n",
    "\n",
    "    while num > 0:\n",
    "        i=num%2\n",
    "        num=num//2 #divides without giving decimal values\n",
    "        l.append(i)\n",
    "\n",
    "    l.reverse()\n",
    "    l\n",
    "\n",
    "    for i in l:\n",
    "        print(i)\n",
    "        if i==1:\n",
    "             count+=1\n",
    "    return count\n",
    "\n",
    "num=0\n",
    "count_ones(num)\n",
    "\n",
    "\n",
    "# Count the amount of ones in the binary representation of an integer. For example, since 12 is 1100 in binary, the return value should be 2.\n",
    "\n",
    "# Examples\n",
    "\n",
    "# count_ones(0) ➞ 0\n",
    "\n",
    "# count_ones(100) ➞ 3\n",
    "\n",
    "# count_ones(999) ➞ 8\n",
    "# Notes\n",
    "\n",
    "# The input will always be a valid integer (number)."
   ]
  },
  {
   "cell_type": "code",
   "execution_count": null,
   "metadata": {},
   "outputs": [],
   "source": [
    "def count_vowels(txt):\n",
    "    vowel = ['a', 'e', 'i', 'o', 'u']\n",
    "    count=0\n",
    "\n",
    "    for i in txt:\n",
    "        if i in vowel:\n",
    "            count+=1\n",
    "    return count    \n",
    "\n",
    "txt=''\n",
    "count_vowels(txt)\n",
    "# Create a function that takes a string and returns the number (count) of vowels contained within it.\n",
    "\n",
    "# Examples\n",
    "\n",
    "# count_vowels(\"Celebration\") ➞ 5\n",
    "\n",
    "# count_vowels(\"Palm\") ➞ 1\n",
    "\n",
    "# count_vowels(\"Prediction\") ➞ 4\n",
    "# Notes\n",
    "\n",
    "# a, e, i, o, u are considered vowels (not y).\n",
    "# All test cases are one word and only contain letters."
   ]
  },
  {
   "cell_type": "code",
   "execution_count": null,
   "metadata": {},
   "outputs": [],
   "source": [
    "def evenly_divisible(a, b, c):\n",
    "    sm = 0\n",
    "    for i in range(a,b+1):\n",
    "        print('mod')\n",
    "        print(i)\n",
    "        \n",
    "        print(i%c)\n",
    "        if i%c == 0:\n",
    "                sm += i\n",
    "    return sm\n",
    "\n",
    "a=1\n",
    "b=5\n",
    "c=4\n",
    "    \n",
    "evenly_divisible(a, b, c)\n",
    "\n",
    "\n",
    "# Create a function that takes three arguments a, b, c and returns the sum of the numbers that are\n",
    "#evenly divided by c from the range a, b inclusive.\n",
    "\n",
    "# Examples\n",
    "\n",
    "# evenly_divisible(1, 10, 20) ➞ 0\n",
    "# # No number between 1 and 10 can be evenly divided by 20.\n",
    "\n",
    "# evenly_divisible(1, 10, 2) ➞ 30\n",
    "# # 2 + 4 + 6 + 8 + 10 = 30\n",
    "\n",
    "# evenly_divisible(1, 10, 3) ➞ 18\n",
    "# # 3 + 6 + 9 = 18\n",
    "# Notes\n",
    "\n",
    "# Return 0 if there is no number between a and b that can be evenly divided by c."
   ]
  },
  {
   "cell_type": "code",
   "execution_count": null,
   "metadata": {},
   "outputs": [],
   "source": [
    "def correct_signs(txt):\n",
    "    return eval(txt)\n",
    "\n",
    "txt='3<7<11<1'\n",
    "correct_signs(txt)\n",
    "\n",
    "\n",
    "\n",
    "# Create a function that returns True if a given inequality expression is correct and False otherwise.\n",
    "\n",
    "# Examples\n",
    "\n",
    "# correct_signs(\"3 < 7 < 11\") ➞ True\n",
    "\n",
    "# correct_signs(\"13 > 44 > 33 > 1\") ➞ False\n",
    "\n",
    "# correct_signs(\"1 < 2 < 6 < 9 > 3\") ➞ True\n",
    "# Notes\n",
    "\n"
   ]
  },
  {
   "cell_type": "code",
   "execution_count": null,
   "metadata": {},
   "outputs": [],
   "source": [
    "def replace_vowels(txt, ch):\n",
    "    vowel = ['a', 'e', 'i', 'o', 'u']\n",
    "\n",
    "    for i in vowel:\n",
    "        txt=txt.replace(i,ch)\n",
    "    return txt\n",
    "\n",
    "txt='Hello'\n",
    "replace_vowels(txt, ch)\n",
    "\n",
    "\n",
    "# Create a function that replaces all the vowels in a string with a specified character.\n",
    "\n",
    "# Examples\n",
    "\n",
    "# replace_vowels(\"the aardvark\", \"#\") ➞ \"th# ##rdv#rk\"\n",
    "\n",
    "# replace_vowels(\"minnie mouse\", \"?\") ➞ \"m?nn?? m??s?\"\n",
    "\n",
    "# replace_vowels(\"shakespeare\", \"*\") ➞ \"sh*k*sp**r*\"\n",
    "# Notes\n",
    "\n",
    "# All characters will be in lower case."
   ]
  },
  {
   "cell_type": "code",
   "execution_count": null,
   "metadata": {},
   "outputs": [],
   "source": [
    "def card_hide(card):\n",
    "    v=len(card)-4\n",
    "    mask=v*'*'\n",
    "    txt =card[-4::]\n",
    "    return mask+txt\n",
    "\n",
    "card='1234567891234'\n",
    "print(card)\n",
    "card_hide(card)\n",
    "\n",
    "# Write a function that takes a credit card number and only displays the last four characters. \n",
    "#The rest of the card number must be replaced by ************.\n",
    "\n",
    "# Examples\n",
    "\n",
    "# card_hide(\"1234123456785678\") ➞ \"************5678\"\n",
    "\n",
    "# card_hide(\"8754456321113213\") ➞ \"************3213\"\n",
    "\n",
    "# card_hide(\"35123413355523\") ➞ \"**********5523\"\n",
    "# Examples\n",
    "\n",
    "# Ensure you return a string.\n",
    "# The length of the string must remain the same as the input.\n"
   ]
  },
  {
   "cell_type": "code",
   "execution_count": null,
   "metadata": {},
   "outputs": [],
   "source": [
    "def XO(txt):\n",
    "    counto=0\n",
    "    countx=0\n",
    "    o=['o','O']\n",
    "    x=['x','X']\n",
    "\n",
    "    for i in txt:\n",
    "        if i in o:\n",
    "            counto+=1\n",
    "\n",
    "    for i in txt:\n",
    "        if i in x:\n",
    "            countx+=1\n",
    "    return counto==countx\n",
    "\n",
    "\n",
    "        \n",
    "txt='hellooOexxX'\n",
    "\n",
    "XO(txt)\n",
    "\n",
    "\n",
    "# Create a function that takes a string, checks if it has the same number of \"x\"s and \"o\"s and returns either True or False.\n",
    "\n",
    "# Return a boolean value (True or False).\n",
    "# Return True if the amount of x's and o's are the same.\n",
    "# Return False if they aren't the same amount.\n",
    "# The string can contain any character.\n",
    "# When \"x\" and \"o\" are not in the string, return True.\n",
    "# Examples\n",
    "\n",
    "# XO(\"ooxx\") ➞ True\n",
    "\n",
    "# XO(\"xooxx\") ➞ False\n",
    "\n",
    "# XO(\"ooxXm\") ➞ True\n",
    "# # Case insensitive.\n",
    "\n",
    "# XO(\"zpzpzpp\") ➞ True\n",
    "# # Returns True if no x and o.\n",
    "\n",
    "# XO(\"zzoo\") ➞ False\n",
    "# Notes\n",
    "\n",
    "# Remember to return True if there aren't any x's or o's.\n",
    "# Must be case insensitive."
   ]
  },
  {
   "cell_type": "code",
   "execution_count": null,
   "metadata": {},
   "outputs": [],
   "source": [
    "def name_shuffle(txt):\n",
    "\n",
    "    x = txt.split()\n",
    "    x.reverse()\n",
    "    y=\" \".join(x) #joins lists\n",
    "    return y\n",
    "\n",
    "txt = \"Ahmed Zribi\"\n",
    "name_shuffle(txt)\n",
    "\n",
    "\n",
    "# Shuffle the Name\n",
    "# Published by Matt in Python\n",
    "# sortingstrings\n",
    "# Create a function that takes a string (will be a person's first and last name) and returns a string with the first and last name swapped.\n",
    "\n",
    "# Examples\n",
    "\n",
    "# name_shuffle(\"Donald Trump\") ➞ \"Trump Donald\"\n",
    "\n",
    "# name_shuffle(\"Rosie O'Donnell\") ➞ \"O'Donnell Rosie\"\n",
    "\n",
    "# name_shuffle(\"Seymour Butts\") ➞ \"Butts Seymour\"\n",
    "# Notes\n",
    "\n",
    "# There will be exactly one space between the first and last name."
   ]
  },
  {
   "cell_type": "code",
   "execution_count": null,
   "metadata": {},
   "outputs": [],
   "source": [
    "def find_odd(lst):\n",
    "    for i in lst:\n",
    "        if lst.count(i)%2 != 0:\n",
    "            v=i\n",
    "    return v\n",
    "    \n",
    "lst=[20, 1, -1, 2, -2, 3, 3, 5, 5, 1, 2, 4, 20, 4, -1, -2, 5]   \n",
    "find_odd(lst)\n",
    "\n",
    "\n",
    "# Create a function that takes a list and finds the integer which appears an odd number of times.\n",
    "\n",
    "# Examples\n",
    "\n",
    "# find_odd([1, 1, 2, -2, 5, 2, 4, 4, -1, -2, 5]) ➞ -1\n",
    "\n",
    "# find_odd([20, 1, 1, 2, 2, 3, 3, 5, 5, 4, 20, 4, 5]) ➞ 5\n",
    "\n",
    "# find_odd([10]) ➞ 10\n",
    "# Notes\n",
    "\n",
    "# There will always only be one integer that appears an odd number of times."
   ]
  },
  {
   "cell_type": "code",
   "execution_count": null,
   "metadata": {},
   "outputs": [],
   "source": [
    "def hamming_distance(txt1, txt2):\n",
    "\tcount = 0\n",
    "\tfor i in range (len(txt1)):\n",
    "\t\tif (txt1[i]!=txt2[i]):\n",
    "\t\t\tcount+=1\n",
    "\treturn count\n",
    "    \n",
    "\n",
    "\n",
    "\n",
    "\n",
    "# Hamming distance is the number of characters that differ between two strings.\n",
    "\n",
    "# To illustrate:\n",
    "\n",
    "# String1: \"abcbba\"\n",
    "# String2: \"abcbda\"\n",
    "\n",
    "# Hamming Distance: 1 - \"b\" vs. \"d\" is the only difference.\n",
    "# Create a function that computes the hamming distance between two strings.\n",
    "\n",
    "# Examples\n",
    "\n",
    "# hamming_distance(\"abcde\", \"bcdef\") ➞ 5\n",
    "\n",
    "# hamming_distance(\"abcde\", \"abcde\") ➞ 0\n",
    "\n",
    "# hamming_distance(\"strong\", \"strung\") ➞ 1\n",
    "# Notes\n",
    "\n",
    "# Both strings will have the same length"
   ]
  },
  {
   "cell_type": "code",
   "execution_count": null,
   "metadata": {},
   "outputs": [],
   "source": [
    "def filter_list(lst):\n",
    "    l=lst\n",
    "    l2=[]\n",
    "    for i in l:\n",
    "        if type(i) == int:\n",
    "            l2.append(i)\n",
    "\n",
    "    mylist = list(dict.fromkeys(l2)) #removes duplicates with order\n",
    "    return mylist\n",
    "\n",
    "lst=[1, \"a\", \"b\", 0, 15]\n",
    "filter_list(lst)\n",
    "\n",
    "        \n",
    "\n",
    "\n",
    "# Create a function that takes a list of non-negative integers and strings and return a new list without the strings.\n",
    "\n",
    "# Examples\n",
    "\n",
    "# filter_list([1, 2, \"a\", \"b\"]) ➞ [1, 2]\n",
    "\n",
    "# filter_list([1, \"a\", \"b\", 0, 15]) ➞ [1, 0, 15]\n",
    "\n",
    "# filter_list([1, 2, \"aasf\", \"1\", \"123\", 123]) ➞ [1, 2, 123]\n",
    "# Notes\n",
    "\n",
    "# Zero is a non-negative integer.\n",
    "# The given list only has integers and strings.\n",
    "# Numbers in the list should not repeat.\n",
    "# The original order must be maintained."
   ]
  },
  {
   "cell_type": "code",
   "execution_count": null,
   "metadata": {},
   "outputs": [],
   "source": [
    "txt = \"Hello World\"\n",
    "\n",
    "\n",
    "def reverse(txt):\n",
    "    v=''\n",
    "    for i in txt:\n",
    "        if i.isupper() == True:\n",
    "            print(i.lower())\n",
    "            v=i.lower()+v\n",
    "        else:\n",
    "            print(i.upper())\n",
    "            v=i.upper()+v\n",
    "    print(v)   #it is backword because first you inset h,then Eh,LEh,LLEh,OLLEH etc\n",
    "    return v\n",
    "\n",
    "txt = \"Hello World\"\n",
    "reverse(txt)\n",
    "\n",
    "# The \"Reverser\" takes a string as input and returns that string in reverse order, with the opposite case.\n",
    "\n",
    "# Examples\n",
    "\n",
    "# reverse(\"Hello World\") ➞ \"DLROw OLLEh\"\n",
    "\n",
    "# reverse(\"ReVeRsE\") ➞ \"eSrEvEr\"\n",
    "\n",
    "# reverse(\"Radar\") ➞ \"RADAr\"\n",
    "# Notes\n",
    "\n",
    "# There will be no punctuation in any of the test cases."
   ]
  },
  {
   "cell_type": "code",
   "execution_count": null,
   "metadata": {},
   "outputs": [],
   "source": [
    "writeyourcodehere = [1, 2, 3, 4, 5, 6]\n",
    "first, *middle,last = writeyourcodehere #* unpacks the list  value\n",
    "print(first,middle,last)\n",
    "\n",
    "# You can assign variables from lists like this:\n",
    "\n",
    "# lst = [1, 2, 3, 4, 5, 6]\n",
    "# first = lst[0]\n",
    "# middle = lst[1:-1]\n",
    "# last = lst[-1]\n",
    "\n",
    "# print(first) ➞ outputs 1\n",
    "# print(middle) ➞ outputs [2, 3, 4, 5]\n",
    "# print(last) ➞ outputs 6\n",
    "# With Python 3, you can assign variables from lists in a much more succinct way. Create variables first, middle and last from the given list using destructuring assignment (check the Resources tab for some examples), where:\n",
    "\n",
    "# first  ➞ 1\n",
    "\n",
    "# middle ➞ [2, 3, 4, 5]\n",
    "\n",
    "# last ➞ 6\n",
    "# Your task is to unpack the list writeyourcodehere into three variables, being first, middle, and last, with middle being everything in between the first and last element. Then print all three variables.\n",
    "\n",
    "# Notes\n",
    "\n",
    "# Your solution should be just one line of code.\n",
    "# If your solution is longer than one line of code, please review the Resources tab."
   ]
  },
  {
   "cell_type": "code",
   "execution_count": null,
   "metadata": {},
   "outputs": [],
   "source": [
    "\n",
    "def count_characters(lst):\n",
    "    count=0\n",
    "    for i in lst:\n",
    "        print(i)\n",
    "        for v in i:\n",
    "            print(v)\n",
    "            count+=1\n",
    "    return count\n",
    "\n",
    "lst=['123','1bc','$%^']\n",
    "count_characters(lst)\n",
    "\n",
    "# Create a function to calculate how many characters in total are needed to make up the shape. \n",
    "# You will be given a list of strings which make up a shape in the compiler (i.e. a square, a rectangle or a line).\n",
    "\n",
    "# Examples\n",
    "\n",
    "# count_characters([\n",
    "#   \"###\",\n",
    "#   \"###\",\n",
    "#   \"###\"\n",
    "# ]) ➞ 9\n",
    "\n",
    "# count_characters([\n",
    "#   \"22222222\",\n",
    "#   \"22222222\",\n",
    "# ]) ➞ 16\n",
    "\n",
    "# count_characters([\n",
    "#   \"------------------\"\n",
    "# ]) ➞ 18\n",
    "\n",
    "# count_characters([]) ➞ 0\n",
    "\n",
    "# count_characters([\"\", \"\"]) ➞ 0\n",
    "# Notes\n",
    "\n",
    "# Return 0 if the given list is empty."
   ]
  },
  {
   "cell_type": "code",
   "execution_count": null,
   "metadata": {},
   "outputs": [],
   "source": [
    "#5,4,3,2,1\n",
    "\n",
    "def factorial(n):\n",
    "    if n==0:\n",
    "        return(1)\n",
    "    \n",
    "    n=n+1\n",
    "    v=1\n",
    "    while n>1:\n",
    "        n -=1\n",
    "        v*=n\n",
    "\n",
    "    return(v)    \n",
    "\n",
    "n=0\n",
    "factorial(n)\n",
    "\n",
    "\n",
    "# Write a function that calculates the factorial of a number recursively.\n",
    "\n",
    "# Examples\n",
    "\n",
    "# factorial(5) ➞ 120\n",
    "\n",
    "# factorial(3) ➞ 6\n",
    "\n",
    "# factorial(1) ➞ 1\n",
    "\n",
    "# factorial(0) ➞ 1\n",
    "# Notes\n",
    "\n",
    "# N/A"
   ]
  },
  {
   "cell_type": "code",
   "execution_count": null,
   "metadata": {},
   "outputs": [],
   "source": [
    "def move_to_end(lst, el):\n",
    "    count=0\n",
    "    for i in lst:\n",
    "        if i == el:\n",
    "            count+=1\n",
    "\n",
    "    for v in range(1,count+1):\n",
    "        p=lst.index(el)\n",
    "        lst.pop(p)\n",
    "        lst.append(el)\n",
    "    return(lst)\n",
    "\n",
    "\n",
    "lst = [1, 3, 2, 4, 4, 1]\n",
    "el=4 \n",
    "move_to_end(lst, el)\n",
    "\n",
    "\n",
    "\n",
    "\n",
    "# Write a function that moves all elements of one type to the end of the list.\n",
    "\n",
    "# Examples\n",
    "\n",
    "# move_to_end([1, 3, 2, 4, 4, 1], 1) ➞ [3, 2, 4, 4, 1, 1]\n",
    "# # Move all the 1s to the end of the array.\n",
    "\n",
    "# move_to_end([7, 8, 9, 1, 2, 3, 4], 9) ➞ [7, 8, 1, 2, 3, 4, 9]\n",
    "\n",
    "# move_to_end([\"a\", \"a\", \"a\", \"b\"], \"a\") ➞ [\"b\", \"a\", \"a\", \"a\"]\n",
    "# Notes\n",
    "\n",
    "# Keep the order of the un-moved items the same."
   ]
  },
  {
   "cell_type": "code",
   "execution_count": null,
   "metadata": {},
   "outputs": [],
   "source": [
    "def double_char(txt):\n",
    "    v=''\n",
    "    k=''\n",
    "    v=txt*2\n",
    "    for i in txt:\n",
    "        v=i*2\n",
    "        print(i)\n",
    "        print(v)\n",
    "        k+=v\n",
    "\n",
    "    return(k) \n",
    "\n",
    "txt='String'\n",
    "double_char(txt)  \n",
    "# Create a function that takes a string and returns a string in which each character is repeated once.\n",
    "\n",
    "# Examples\n",
    "\n",
    "# double_char(\"String\") ➞ \"SSttrriinngg\"\n",
    "\n",
    "# double_char(\"Hello World!\") ➞ \"HHeelllloo  WWoorrlldd!!\"\n",
    "\n",
    "# double_char(\"1234!_ \") ➞ \"11223344!!__  \"\n",
    "# Notes\n",
    "\n",
    "# All test cases contain valid strings. Don't worry about spaces, special characters or numbers. They're all considered valid characters."
   ]
  },
  {
   "cell_type": "code",
   "execution_count": null,
   "metadata": {},
   "outputs": [],
   "source": [
    "def reverse(arg):\n",
    "    if arg is True or arg is False: #changing '==' sign with 'is' prevents counting 1 as 'True' and 0 as 'False'\n",
    "        return(not bool(arg))\n",
    "\n",
    "    else:\n",
    "        return(\"boolean expected\")  \n",
    "    \n",
    "arg = True\n",
    "reverse(arg)\n",
    "\n",
    "# Create a function that reverses a boolean value and returns the string \"boolean expected\" if another variable type is given.\n",
    "\n",
    "# Examples\n",
    "\n",
    "# reverse(True) ➞ False\n",
    "\n",
    "# reverse(False) ➞ True\n",
    "\n",
    "# reverse(0) ➞ \"boolean expected\"\n",
    "\n",
    "# reverse(None) ➞ \"boolean expected\"\n",
    "# Notes\n",
    "\n",
    "# Don't forget to return the result.\n",
    "# If you get stuck on a challenge, find help in the Resources tab.\n",
    "# If you're really stuck, unlock solutions in the Solutions tab."
   ]
  },
  {
   "cell_type": "code",
   "execution_count": null,
   "metadata": {},
   "outputs": [],
   "source": [
    "def num_layers(n):\n",
    "    p=0.5\n",
    "    v=p*(2**n)\n",
    "    h=v/1000\n",
    "    return str(h)+'m'\n",
    "\n",
    "n=4\n",
    "num_layers(n)\n",
    "\n",
    "# Create a function that returns the thickness (in meters) of a piece of paper after folding it n number of times. The paper starts off with a thickness of 0.5mm.\n",
    "\n",
    "# Examples\n",
    "\n",
    "# num_layers(1) ➞ \"0.001m\"\n",
    "# # Paper folded once is 1mm (equal to 0.001m)\n",
    "\n",
    "# num_layers(4) ➞ \"0.008m\"\n",
    "# # Paper folded 4 times is 8mm (equal to 0.008m)\n",
    "\n",
    "# num_layers(21) ➞ \"1048.576m\"\n",
    "# # Paper folded 21 times is 1048576mm (equal to 1048.576m)\n",
    "# Notes\n",
    "\n",
    "# There are 1000mm in a single meter.\n",
    "# Don't round answers."
   ]
  },
  {
   "cell_type": "code",
   "execution_count": null,
   "metadata": {},
   "outputs": [],
   "source": [
    "def index_of_caps(word):\n",
    "    l=[]\n",
    "    count=-1\n",
    "    for i in word:\n",
    "        count+=1\n",
    "        if i.isupper() == True:\n",
    "            l.append(count)\n",
    "    return l\n",
    "\n",
    "word=\"sUn\"\n",
    "index_of_caps(word)\n",
    "    \n",
    "\n",
    "\n",
    "\n",
    "# Create a function that takes a single string as argument and returns an ordered list containing the indices of all capital letters in the string.\n",
    "\n",
    "# Examples\n",
    "\n",
    "# index_of_caps(\"eDaBiT\") ➞ [1, 3, 5]\n",
    "\n",
    "# index_of_caps(\"eQuINoX\") ➞ [1, 3, 4, 6]\n",
    "\n",
    "# index_of_caps(\"determine\") ➞ []\n",
    "\n",
    "# index_of_caps(\"STRIKE\") ➞ [0, 1, 2, 3, 4, 5]\n",
    "\n",
    "# index_of_caps(\"sUn\") ➞ [1]\n",
    "# Notes\n",
    "\n",
    "# Return an empty list if no uppercase letters are found in the string.\n",
    "# Special characters ($#@%) and numbers will be included in some test cases.\n",
    "# Assume all words do not have duplicate letters."
   ]
  },
  {
   "cell_type": "code",
   "execution_count": null,
   "metadata": {},
   "outputs": [],
   "source": [
    "def sum_numbers(n):\n",
    "    n=n+1\n",
    "    v=0\n",
    "    while n>1:\n",
    "        n-=1\n",
    "        v+=n\n",
    "    return v\n",
    "\n",
    "\n",
    "# Write a function that finds the sum of the first n natural numbers. Make your function recursive.\n",
    "\n",
    "# Examples\n",
    "\n",
    "# sum_numbers(5) ➞ 15\n",
    "# # 1 + 2 + 3 + 4 + 5 = 15\n",
    "\n",
    "# sum_numbers(1) ➞ 1\n",
    "\n",
    "# sum_numbers(12) ➞ 78\n",
    "# Notes\n",
    "\n",
    "# Assume the input number is always positive.\n",
    "# Check the Resources tab for info on recursion."
   ]
  },
  {
   "cell_type": "code",
   "execution_count": null,
   "metadata": {},
   "outputs": [],
   "source": [
    "def find_even_nums(num):\n",
    "    l=[]\n",
    "    for i in range(1,num+1):\n",
    "        print(i)\n",
    "        if i%2 == 0:\n",
    "            l.append(i)\n",
    "    return l  \n",
    "\n",
    "num=0\n",
    "find_even_nums(num)\n",
    "\n",
    "#or\n",
    "def find_even_nums(num):\n",
    "\treturn [ x for x in range(2,num+1,2)]\n",
    "\n",
    "#or\n",
    "def find_even_nums(num):\n",
    "\treturn [ i for i in range(1,num+1) if i%2==0 ]\n",
    "\n",
    "# Using list comprehensions, create a function that finds all even numbers from 1 to the given number.\n",
    "\n",
    "# Examples\n",
    "\n",
    "# find_even_nums(8) ➞ [2, 4, 6, 8]\n",
    "\n",
    "# find_even_nums(4) ➞ [2, 4]\n",
    "\n",
    "# find_even_nums(2) ➞ [2]\n",
    "# Try to use list comprehensions in your solution. Here's an example:\n",
    "\n",
    "# vals = [expression \n",
    "#   for value in collection \n",
    "#     if condition]\n",
    "# This is equivalent to:\n",
    "\n",
    "# vals = []\n",
    "# for value in collection:\n",
    "#   if condition:\n",
    "#     vals.append(expression)\n",
    "# Notes\n",
    "\n",
    "# Try to use list comprehensions instead of logic.\n",
    "# If there are no even numbers, return an empty list.\n"
   ]
  },
  {
   "cell_type": "code",
   "execution_count": null,
   "metadata": {},
   "outputs": [],
   "source": [
    "def filter_list(l):\n",
    "    k=[]\n",
    "    for i in l:\n",
    "        print(i)\n",
    "        if type(i) is int:\n",
    "            k.append(i)\n",
    "    return(k)\n",
    "\n",
    "l=[1, 2, 3, \"a\", \"b\", 4]\n",
    "filter_list(l)\n",
    "\n",
    "    \n",
    "#or\n",
    "def filter_list(l): #list comprehensions\n",
    "  return [i for i in l if type(i)==int]\n",
    "\n",
    "\n",
    "# Create a function that takes a list of strings and integers, and filters out the list so that it returns a list of integers only.\n",
    "\n",
    "# Examples\n",
    "\n",
    "# filter_list([1, 2, 3, \"a\", \"b\", 4]) ➞ [1, 2, 3, 4]\n",
    "\n",
    "# filter_list([\"A\", 0, \"Edabit\", 1729, \"Python\", \"1729\"]) ➞ [0, 1729]\n",
    "\n",
    "# filter_list([\"Nothing\", \"here\"]) ➞ []\n",
    "# Notes\n",
    "\n",
    "# Don't overthink this one.\n",
    "    "
   ]
  },
  {
   "cell_type": "code",
   "execution_count": 24,
   "metadata": {},
   "outputs": [
    {
     "data": {
      "text/plain": [
       "[-25, -14, 5]"
      ]
     },
     "execution_count": 24,
     "metadata": {},
     "output_type": "execute_result"
    }
   ],
   "source": [
    "def add_indexes(lst):\n",
    "\n",
    "    v=[]\n",
    "    count=-1\n",
    "    for i in lst:\n",
    "        count+=1\n",
    "        print(count)\n",
    "        v.append(i+count)\n",
    "    return(v)\n",
    "\n",
    "#or\n",
    "def add_indexes(lst): #list comprehensions\n",
    "\treturn [i+j for i, j in enumerate(lst)]\n",
    "\n",
    "lst=[-25, -15, 3]\n",
    "add_indexes(lst)\n",
    "\n",
    "\n",
    "\n",
    "\n",
    "# Given a list of numbers, create a function which returns the list \n",
    "#but with each element's index in the list added to itself.\n",
    "#This means you add 0 to the number at index 0, add 1 to the number at index 1, etc...\n",
    "\n",
    "# Examples\n",
    "\n",
    "# add_indexes([0, 0, 0, 0, 0]) ➞ [0, 1, 2, 3, 4]\n",
    "\n",
    "# add_indexes([1, 2, 3, 4, 5]) ➞ [1, 3, 5, 7, 9]\n",
    "\n",
    "# add_indexes([5, 4, 3, 2, 1]) ➞ [5, 5, 5, 5, 5]\n",
    "# Notes\n",
    "\n",
    "# You'll only get numbers in the list."
   ]
  },
  {
   "cell_type": "code",
   "execution_count": 36,
   "metadata": {},
   "outputs": [
    {
     "data": {
      "text/plain": [
       "70.0"
      ]
     },
     "execution_count": 36,
     "metadata": {},
     "output_type": "execute_result"
    }
   ],
   "source": [
    "\n",
    "\n",
    "def probability(lst, n):\n",
    "    count=0\n",
    "    for i in lst:\n",
    "        if i>=n:\n",
    "            count+=1\n",
    "\n",
    "\n",
    "    return round((count/len(lst) )*100,1)\n",
    "\n",
    "lst=[4, 6, 2, 9, 15, 18, 8, 2, 10, 8]\n",
    "n=5\n",
    "probability(lst, n)\n",
    "\n",
    "# Given a list of numbers and a value n, write a function that returns the probability of choosing \n",
    "#a number greater than or equal to n from the list.\n",
    "#The probability should be expressed as a percentage, rounded to one decimal place.\n",
    "\n",
    "# Examples\n",
    "\n",
    "# probability([5, 1, 8, 9], 6) ➞ 50.0\n",
    "\n",
    "# probability([7, 4, 17, 14, 12, 3], 16) ➞ 16.7\n",
    "\n",
    "# probability([4, 6, 2, 9, 15, 18, 8, 2, 10, 8], 6) ➞ 70.0\n",
    "# Notes\n",
    "\n",
    "# Precent probability of event = 100 * (num of favourable outcomes) / (total num of possible outcomes)"
   ]
  },
  {
   "cell_type": "code",
   "execution_count": 39,
   "metadata": {},
   "outputs": [
    {
     "data": {
      "text/plain": [
       "12.57"
      ]
     },
     "execution_count": 39,
     "metadata": {},
     "output_type": "execute_result"
    }
   ],
   "source": [
    "from math import pi\n",
    "\n",
    "def cone_volume(h, r):\n",
    "    return round((r**2*h*pi)/3,2)\n",
    "\n",
    "\n",
    "h=3\n",
    "r=2\n",
    "cone_volume(h, r)\n",
    "\n",
    "    \n",
    "    \n",
    "# Create a function that takes the height and radius of a cone as arguments and returns the volume of the cone rounded to the nearest hundredth. See the resources tab for the formula.\n",
    "\n",
    "# Volume of a Cone Image\n",
    "\n",
    "# Examples\n",
    "\n",
    "# cone_volume(3, 2) ➞ 12.57\n",
    "\n",
    "# cone_volume(15, 6) ➞ 565.49\n",
    "\n",
    "# cone_volume(18, 0) ➞ 0\n",
    "# Notes\n",
    "\n",
    "# Return approximate answer by rounding the answer to the nearest hundredth.\n",
    "# Use Python's math.pi constant or equivalent, don't fall for 3.14 ;-)\n",
    "# If the cone has no volume, return 0.\n",
    "    "
   ]
  },
  {
   "cell_type": "code",
   "execution_count": 48,
   "metadata": {},
   "outputs": [
    {
     "data": {
      "text/plain": [
       "23220"
      ]
     },
     "execution_count": 48,
     "metadata": {},
     "output_type": "execute_result"
    }
   ],
   "source": [
    "def triangle(n):\n",
    "    v=0\n",
    "    for i in range(1,n+1):\n",
    "        v+=i\n",
    "    return(v)\n",
    "\n",
    "n=215\n",
    "triangle(n)\n",
    "\n",
    "#or\n",
    "def triangle(n): #list comprehensions\n",
    "\treturn (n**2+n)//2\n",
    "\n",
    "#or\n",
    "def triangle(n):\n",
    "\treturn sum([i for i in range(n + 1)])\n",
    "\n",
    "# This Triangular Number Sequence is generated from a pattern of dots that form a triangle. The first 5 numbers of the sequence, or dots, are:\n",
    "\n",
    "# 1, 3, 6, 10, 15\n",
    "# This means that the first triangle has just one dot, the second one has three dots, the third one has 6 dots and so on.\n",
    "\n",
    "# Write a function that gives the number of dots with its corresponding triangle number of the sequence.\n",
    "\n",
    "# Examples\n",
    "\n",
    "# triangle(1) ➞ 1\n",
    "\n",
    "# triangle(6) ➞ 21\n",
    "\n",
    "# triangle(215) ➞ 23220\n",
    "# Notes\n",
    "\n",
    "# Check the Resources for info on triangular number sequence."
   ]
  },
  {
   "cell_type": "code",
   "execution_count": 87,
   "metadata": {},
   "outputs": [
    {
     "name": "stdout",
     "output_type": "stream",
     "text": [
      "5\n"
     ]
    }
   ],
   "source": [
    "def missing_num(lst):\n",
    "    l=list(range(1,11))\n",
    "\n",
    "    for x in l:\n",
    "        if x not in lst:\n",
    "            v=x\n",
    "    return v\n",
    "\n",
    "lst=[1, 2, 3, 4, 6, 7, 8, 9, 10]\n",
    "missing_num(lst)\n",
    "\n",
    "        \n",
    "\n",
    "# Create a function that takes a list of numbers between 1 and 10\n",
    "#(excluding one number) and returns the missing number.\n",
    "\n",
    "# Examples\n",
    "\n",
    "# missing_num([1, 2, 3, 4, 6, 7, 8, 9, 10]) ➞ 5\n",
    "\n",
    "# missing_num([7, 2, 3, 6, 5, 9, 1, 4, 8]) ➞ 10\n",
    "\n",
    "# missing_num([10, 5, 1, 2, 4, 6, 8, 3, 9]) ➞ 7\n",
    "# Notes\n",
    "\n",
    "# The list of numbers will be unsorted (not in order).\n",
    "# Only one number will be missing.\n"
   ]
  },
  {
   "cell_type": "code",
   "execution_count": 98,
   "metadata": {},
   "outputs": [
    {
     "data": {
      "text/plain": [
       "'No list has been selected'"
      ]
     },
     "execution_count": 98,
     "metadata": {},
     "output_type": "execute_result"
    }
   ],
   "source": [
    "def next_in_line(lst, num):   \n",
    "    if lst==[]:\n",
    "        return \"No list has been selected\"\n",
    "    lst.pop(0)\n",
    "    lst.append(num)\n",
    "    return lst\n",
    "\n",
    "#or\n",
    "def next_in_line(lst, num): #list comprehension\n",
    "\treturn lst[1:] + [num] if lst else \"No list has been selected\"\n",
    "\n",
    "num=1\n",
    "lst=[5, 6, 7, 8, 9]\n",
    "next_in_line(lst, num)\n",
    "\n",
    "# Write a function that takes a list and a number as arguments. Add the number to the end of the list, then remove the first element of the list. The function should then return the updated list.\n",
    "\n",
    "# Examples\n",
    "\n",
    "# next_in_line([5, 6, 7, 8, 9], 1) ➞ [6, 7, 8, 9, 1]\n",
    "\n",
    "# next_in_line([7, 6, 3, 23, 17], 10) ➞ [6, 3, 23, 17, 10]\n",
    "\n",
    "# next_in_line([1, 10, 20, 42 ], 6) ➞ [10, 20, 42, 6]\n",
    "\n",
    "# next_in_line([], 6) ➞ \"No list has been selected\"\n",
    "# Notes\n",
    "\n",
    "# For an empty list input, return: \"No list has been selected\""
   ]
  },
  {
   "cell_type": "code",
   "execution_count": 104,
   "metadata": {},
   "outputs": [
    {
     "data": {
      "text/plain": [
       "65700"
      ]
     },
     "execution_count": 104,
     "metadata": {},
     "output_type": "execute_result"
    }
   ],
   "source": [
    "def get_budgets(lst):  #list comprehension\n",
    "\treturn sum(i['budget'] for i in lst)\n",
    "\n",
    "lst=[{\"name\": \"John\",  \"age\": 21, \"budget\": 23000}, \n",
    " {\"name\": \"Steve\",  \"age\": 32, \"budget\": 40000}, \n",
    " {\"name\": \"Martin\",  \"age\": 16, \"budget\": 2700}]\n",
    "\n",
    "get_budgets(lst)\n",
    "\n",
    "# Create the function that takes a list of dictionaries and returns the sum of people's budgets.\n",
    "\n",
    "# Examples\n",
    "\n",
    "# get_budgets([\n",
    "#   { \"name\": \"John\", \"age\": 21, \"budget\": 23000 },\n",
    "#   { \"name\": \"Steve\",  \"age\": 32, \"budget\": 40000 },\n",
    "#   { \"name\": \"Martin\",  \"age\": 16, \"budget\": 2700 }\n",
    "# ]) ➞ 65700\n",
    "\n",
    "# get_budgets([\n",
    "#   { \"name\": \"John\",  \"age\": 21, \"budget\": 29000 },\n",
    "#   { \"name\": \"Steve\",  \"age\": 32, \"budget\": 32000 },\n",
    "#   { \"name\": \"Martin\",  \"age\": 16, \"budget\": 1600 }\n",
    "# ]) ➞ 62600\n",
    "# Notes\n",
    "\n",
    "# N/A\n"
   ]
  },
  {
   "cell_type": "code",
   "execution_count": 108,
   "metadata": {},
   "outputs": [
    {
     "data": {
      "text/plain": [
       "'ehllo'"
      ]
     },
     "execution_count": 108,
     "metadata": {},
     "output_type": "execute_result"
    }
   ],
   "source": [
    "def alphabet_soup(txt):\n",
    "    return ''.join(sorted(txt))\n",
    "    \n",
    "\n",
    "txt='hello'\n",
    "alphabet_soup(txt)\n",
    "\n",
    "\n",
    "# Create a function that takes a string and returns a string with its letters in alphabetical order.\n",
    "\n",
    "# Examples\n",
    "\n",
    "# alphabet_soup(\"hello\") ➞ \"ehllo\"\n",
    "\n",
    "# alphabet_soup(\"edabit\") ➞ \"abdeit\"\n",
    "\n",
    "# alphabet_soup(\"hacker\") ➞ \"acehkr\"\n",
    "\n",
    "# alphabet_soup(\"geek\") ➞ \"eegk\"\n",
    "\n",
    "# alphabet_soup(\"javascript\") ➞ \"aacijprstv\"\n",
    "# Notes\n",
    "\n",
    "# You can assume numbers and punctuation symbols won't be included in test cases. You'll only have to deal with single word, alphabetic characters."
   ]
  },
  {
   "cell_type": "code",
   "execution_count": 113,
   "metadata": {},
   "outputs": [
    {
     "data": {
      "text/plain": [
       "[1, 2, 3, [1, 2, 3]]"
      ]
     },
     "execution_count": 113,
     "metadata": {},
     "output_type": "execute_result"
    }
   ],
   "source": [
    "def clone(lst):\n",
    "\treturn lst+[lst]\n",
    "# The Code tab has code which attempts to add a clone of a list to itself. There is no error message, but the results are not as intended. Can you fix the code?\n",
    "\n",
    "# Examples\n",
    "\n",
    "# clone([1, 1]) ➞ [1, 1, [1, 1]]\n",
    "\n",
    "# clone([1, 2, 3]) ➞ [1, 2, 3, [1, 2, 3]]\n",
    "\n",
    "# clone([\"x\", \"y\"]) ➞ [\"x\", \"y\", [\"x\", \"y\"]]\n",
    "# Notes\n",
    "\n",
    "# N/A"
   ]
  },
  {
   "cell_type": "code",
   "execution_count": 146,
   "metadata": {},
   "outputs": [
    {
     "data": {
      "text/plain": [
       "1"
      ]
     },
     "execution_count": 146,
     "metadata": {},
     "output_type": "execute_result"
    }
   ],
   "source": [
    "def count(deck):\n",
    "    lst=[2, 3, 4, 5, 6, 7, 8, 9, 10, \"J\", \"Q\", \"K\", \"A\"]\n",
    "    count=0\n",
    "    for i in deck:\n",
    "\n",
    "        if i in lst[:5]:\n",
    "            count+=1\n",
    "            #print(i)\n",
    "        elif i in lst[8:13]:\n",
    "            count-=1\n",
    "            #print(i)\n",
    "    return count\n",
    "\n",
    "deck=[5, 9, 10, 3, 'J', 'A', 4, 8, 5]\n",
    "count(deck)\n",
    "\n",
    "#or\n",
    "\n",
    "def count(deck): #list comprehension\n",
    "\treturn sum([1 if str(i) in '23456' else -1 if str(i) in 'AKQJ10' else 0 \n",
    "                \n",
    "# In BlackJack, cards are counted with -1, 0, 1 values:\n",
    "\n",
    "# 2, 3, 4, 5, 6 are counted as +1\n",
    "# 7, 8, 9 are counted as 0\n",
    "# 10, J, Q, K, A are counted as -1\n",
    "# Create a function that counts the number and returns it from the list of cards provided.\n",
    "\n",
    "# Examples\n",
    "\n",
    "# count([5, 9, 10, 3, \"J\", \"A\", 4, 8, 5]) ➞ 1\n",
    "\n",
    "# count([\"A\", \"A\", \"K\", \"Q\", \"Q\", \"J\"]) ➞ -6\n",
    "\n",
    "# count([\"A\", 5, 5, 2, 6, 2, 3, 8, 9, 7]) ➞ 5\n",
    "# Notes\n",
    "\n",
    "# String inputs will always be upper case.\n",
    "# You do not need to consider case sensitivity.\n",
    "# If the argument is empty, return 0.\n",
    "# No input other than: 2, 3, 4, 5, 6, 7, 8, 9, 10, \"J\", \"Q\", \"K\", \"A\".               \n",
    "    "
   ]
  },
  {
   "cell_type": "code",
   "execution_count": 161,
   "metadata": {},
   "outputs": [
    {
     "name": "stdout",
     "output_type": "stream",
     "text": [
      "True\n"
     ]
    }
   ],
   "source": [
    "pin='%234'\n",
    "\n",
    "if len(pin) == 4 or len(pin)== 6 and pin.isnumeric() is True:\n",
    "    print(True)\n",
    "else:\n",
    "    print(False)\n",
    "\n",
    "# ATM machines allow 4 or 6 digit PIN codes and PIN codes cannot contain anything but exactly 4 digits or exactly 6 digits. Your task is to create a function that takes a string and returns True if the PIN is valid and False if it's not.\n",
    "\n",
    "# Examples\n",
    "\n",
    "# is_valid_PIN(\"1234\") ➞ True\n",
    "\n",
    "# is_valid_PIN(\"12345\") ➞ False\n",
    "\n",
    "# is_valid_PIN(\"a234\") ➞ False\n",
    "\n",
    "# is_valid_PIN(\"\") ➞ False\n",
    "# Notes\n",
    "\n",
    "# Some test cases contain special characters.\n",
    "# Empty strings must return False."
   ]
  },
  {
   "cell_type": "code",
   "execution_count": 163,
   "metadata": {},
   "outputs": [
    {
     "data": {
      "text/plain": [
       "False"
      ]
     },
     "execution_count": 163,
     "metadata": {},
     "output_type": "execute_result"
    }
   ],
   "source": [
    "def is_valid_PIN(pin):\n",
    "    if (len(pin) == 4 or len(pin)== 6) and pin.isnumeric() is True: #make sure you add the brackets otherwise\n",
    "        return(True)\n",
    "    else:\n",
    "        return(False)\n",
    "    \n",
    "#or\n",
    "def is_valid_PIN(pin):\n",
    "\treturn pin.isdigit() and (len(pin) == 4 or len(pin) == 6) #list comprehension\n",
    "    \n",
    "pin='1234f4'\n",
    "is_valid_PIN(pin)\n",
    "#make sure you add the brackets otherwise it wont work"
   ]
  },
  {
   "cell_type": "code",
   "execution_count": 169,
   "metadata": {},
   "outputs": [
    {
     "data": {
      "text/plain": [
       "18193.97"
      ]
     },
     "execution_count": 169,
     "metadata": {},
     "output_type": "execute_result"
    }
   ],
   "source": [
    "def compound_interest(p, t, r, n):\n",
    "    return round(p*(1+r/n)**(n*t),2)\n",
    "\n",
    "p,t,r,n=10000,10,0.06,12\n",
    "compound_interest(p, t, r, n)\n",
    "\n",
    "\n",
    "# Suppose that you invest $10,000 for 10 years at an interest rate of 6% compounded monthly. What will be the value of your investment at the end of the 10 year period?\n",
    "\n",
    "# Create a function that accepts the principal p, the term in years t, the interest rate r, and the number of compounding periods per year n. The function returns the value at the end of term rounded to the nearest cent.\n",
    "\n",
    "# For the example above:\n",
    "\n",
    "# compound_interest(10000, 10, 0.06, 12) ➞ 18193.97\n",
    "# Note that the interest rate is given as a decimal and n=12 because with monthly compounding there are 12 periods per year. Compounding can also be done annually, quarterly, weekly, or daily.\n",
    "\n",
    "# Examples\n",
    "\n",
    "# compound_interest(100, 1, 0.05, 1) ➞ 105.0\n",
    "\n",
    "# compound_interest(3500, 15, 0.1, 4) ➞ 15399.26\n",
    "\n",
    "# compound_interest(100000, 20, 0.15, 365) ➞ 2007316.26"
   ]
  },
  {
   "cell_type": "code",
   "execution_count": 182,
   "metadata": {},
   "outputs": [
    {
     "name": "stdout",
     "output_type": "stream",
     "text": [
      "9\n",
      "2\n",
      "16\n"
     ]
    },
    {
     "data": {
      "text/plain": [
       "[9, 2, 16]"
      ]
     },
     "execution_count": 182,
     "metadata": {},
     "output_type": "execute_result"
    }
   ],
   "source": [
    "def return_only_integer(lst):\n",
    "    v=[]\n",
    "    for i in lst:\n",
    "        if type(i) is int:\n",
    "            #v.append()\n",
    "            print(i)\n",
    "            v.append(i)\n",
    "    return v\n",
    "        \n",
    "lst=[9, 2, \"space\", \"car\", \"lion\", 16]  \n",
    "return_only_integer(lst)\n",
    "\n",
    "#or\n",
    "def return_only_integer(lst): #list comprehension\n",
    "\treturn [i for i in lst if type(i) is int]\n",
    "    \n",
    "# Write a function that takes a list of elements and returns only the integers.\n",
    "\n",
    "# Examples\n",
    "\n",
    "# return_only_integer([9, 2, \"space\", \"car\", \"lion\", 16]) ➞ [9, 2, 16]\n",
    "\n",
    "# return_only_integer([\"hello\", 81, \"basketball\", 123, \"fox\"]) ➞ [81, 123]\n",
    "\n",
    "# return_only_integer([10, \"121\", 56, 20, \"car\", 3, \"lion\"]) ➞ [10, 56, 20, 3]\n",
    "\n",
    "# return_only_integer([\"String\",  True,  3.3,  1]) ➞ [1]"
   ]
  },
  {
   "cell_type": "code",
   "execution_count": 194,
   "metadata": {},
   "outputs": [
    {
     "name": "stdout",
     "output_type": "stream",
     "text": [
      "pap_ier44, townieBOY and 4 more online\n"
     ]
    }
   ],
   "source": [
    "def chatroom_status(users):\n",
    "    v=users\n",
    "    if len(v)==0:\n",
    "        return(\"no one online\")\n",
    "    elif len(v)==1:\n",
    "        return(v[0]+' online')\n",
    "    elif len(v)==2:\n",
    "        return(v[0]+' and '+v[1]+' online')\n",
    "    elif len(v)>2:\n",
    "        return(v[0]+', '+v[1]+' and '+str(len(v)-2)+' more online')\n",
    "\n",
    "users=[]\n",
    "chatroom_status(users)\n",
    "\n",
    "\n",
    "\n",
    "# Write a function that returns the number of users in a chatroom based on the following rules:\n",
    "\n",
    "# If there is no one, return \"no one online\".\n",
    "# If there is 1 person, return \"user1 online\".\n",
    "# If there are 2 people, return user1 and user2 online\".\n",
    "# If there are n>2 people, return the first two names and add \"and n-2 more online\".\n",
    "# For example, if there are 5 users, return:\n",
    "\n",
    "# \"user1, user2 and 3 more online\"\n",
    "# Examples\n",
    "\n",
    "# chatroom_status([]) ➞ \"no one online\"\n",
    "\n",
    "# chatroom_status([\"paRIE_to\"]) ➞ \"paRIE_to online\"\n",
    "\n",
    "# chatroom_status([\"s234f\", \"mailbox2\"]) ➞ \"s234f and mailbox2 online\"\n",
    "\n",
    "# chatroom_status([\"pap_ier44\", \"townieBOY\", \"panda321\", \"motor_bike5\", \"sandwichmaker833\", \"violinist91\"])\n",
    "# ➞ \"pap_ier44, townieBOY and 4 more online\"\n",
    "# Notes\n",
    "\n",
    "# N/A"
   ]
  },
  {
   "cell_type": "code",
   "execution_count": 207,
   "metadata": {},
   "outputs": [
    {
     "data": {
      "text/plain": [
       "1.414"
      ]
     },
     "execution_count": 207,
     "metadata": {},
     "output_type": "execute_result"
    }
   ],
   "source": [
    "def get_distance(a, b):\n",
    "    return round(((b['x']-a['x'])**2+(b['y']-a['y'])**2)**0.5,3)\n",
    "\n",
    "a,b={\"x\": 0, \"y\": 0}, {\"x\": 1, \"y\": 1}\n",
    "get_distance(a, b)\n",
    "\n",
    "# In this challenge, you have to find the distance between two points placed on a Cartesian plane. \n",
    "#Knowing the coordinates of both the points, you have to apply the Pythagorean theorem \n",
    "#to find the distance between them.\n",
    "\n",
    "# Two points on a Cartesian plane\n",
    "\n",
    "# Given two dictionaries a and b being the two points coordinates (x and y), implement a function that returns the distance between the points, rounded to the nearest thousandth.\n",
    "\n",
    "# Examples\n",
    "\n",
    "# get_distance({\"x\": -2, \"y\": 1}, {\"x\": 4, \"y\": 3}) ➞ 6.325\n",
    "\n",
    "# get_distance({\"x\": 0, \"y\": 0}, {\"x\": 1, \"y\": 1}) ➞ 1.414\n",
    "\n",
    "# get_distance({\"x\": 10, \"y\": -5}, {\"x\": 8, \"y\": 16}) ➞ 21.095\n",
    "# Notes\n",
    "\n",
    "# Take a look at the Resources tab if you need a refresher on the geometry related to this challenge.\n",
    "# The \"distance\" is the shortest distance between the two points, or the straight line generated from a to b."
   ]
  },
  {
   "cell_type": "code",
   "execution_count": 215,
   "metadata": {},
   "outputs": [
    {
     "name": "stdout",
     "output_type": "stream",
     "text": [
      "tie\n"
     ]
    }
   ],
   "source": [
    "def showdown(p1, p2):    \n",
    "    if p1.find('Bang!') > p2.find('Bang!'):\n",
    "        return('p2')\n",
    "    elif p1.find('Bang!') < p2.find('Bang!'):\n",
    "        return('p1')\n",
    "    elif p1.find('Bang!') == p2.find('Bang!'):\n",
    "        return('tie')\n",
    "    \n",
    "p1,p2=(\"    Bang!    \", \"    Bang!    \")\n",
    "showdown(p1, p2)\n",
    "\n",
    "#or\n",
    "#list comprehension\n",
    "\n",
    "#\n",
    "def showdown(p1, p2):\n",
    "\tv = p1.find('B') - p2.find('B')\n",
    "\treturn 'p1' if v < 0 else 'p2' if v > 0 else 'tie'\n",
    "\n",
    "# Wild Roger is participating in a Western Showdown, meaning he has to draw (pull out and shoot) his gun faster than his opponent in a gun standoff.\n",
    "\n",
    "# Given two strings,p1 and p2, return which person drew their gun the fastest. If both are drawn at the same time, return \"tie\".\n",
    "\n",
    "# Examples\n",
    "\n",
    "# showdown(\n",
    "#   \"   Bang!        \",\n",
    "#   \"        Bang!   \"\n",
    "# ) ➞ \"p1\"\n",
    "\n",
    "# # p1 draws his gun sooner than p2\n",
    "\n",
    "# showdown(\n",
    "#   \"               Bang! \",\n",
    "#   \"             Bang!   \"\n",
    "# ) ➞ \"p2\"\n",
    "\n",
    "# showdown(\n",
    "#   \"     Bang!   \",\n",
    "#   \"     Bang!   \"\n",
    "# ) ➞ \"tie\"\n",
    "# Notes\n",
    "\n",
    "# Both strings are the same length.\n"
   ]
  },
  {
   "cell_type": "code",
   "execution_count": 227,
   "metadata": {},
   "outputs": [
    {
     "data": {
      "text/plain": [
       "[3, 6, 9]"
      ]
     },
     "execution_count": 227,
     "metadata": {},
     "output_type": "execute_result"
    }
   ],
   "source": [
    "def list_operation(x, y, n):\n",
    "    return [i for i in range(x,y+1) if i%n==0] #list comprehension\n",
    "\n",
    "x,y,n=(1, 10, 3)\n",
    "list_operation(x, y, n)\n",
    "\n",
    "\n",
    "# Create a function that takes three parameters where:\n",
    "\n",
    "# x is the start of the range (inclusive).\n",
    "# y is the end of the range (inclusive).\n",
    "# n is the divisor to be checked against.\n",
    "# Return an ordered list with numbers in the range that are divisible by the third parameter n. Return an empty list if there are no numbers that are divisible by n.\n",
    "\n",
    "# Examples\n",
    "\n",
    "# list_operation(1, 10, 3) ➞ [3, 6, 9]\n",
    "\n",
    "# list_operation(7, 9, 2) ➞ [8]\n",
    "\n",
    "# list_operation(15, 20, 7) ➞ []\n",
    "# Notes\n",
    "\n",
    "# N/A"
   ]
  },
  {
   "cell_type": "code",
   "execution_count": 261,
   "metadata": {},
   "outputs": [
    {
     "data": {
      "text/plain": [
       "True"
      ]
     },
     "execution_count": 261,
     "metadata": {},
     "output_type": "execute_result"
    }
   ],
   "source": [
    "def simon_says(lst1, lst2):\n",
    "\treturn lst1[:-1] == lst2[1:]\n",
    "\n",
    "lst1,lst2=[1, 2, 3, 4, 5], [0, 1, 2, 3, 4]\n",
    "simon_says(lst1, lst2)\n",
    "\n",
    "# Create a function that takes in two lists and returns True if the second \n",
    "#list follows the first list by one element, and False otherwise. \n",
    "#In other words, determine if the second list is the first list shifted to the right by 1.\n",
    "\n",
    "# Examples\n",
    "\n",
    "# simon_says([1, 2], [5, 1]) ➞ True\n",
    "\n",
    "# simon_says([1, 2], [5, 5]) ➞ False\n",
    "\n",
    "# simon_says([1, 2, 3, 4, 5], [0, 1, 2, 3, 4]) ➞ True\n",
    "\n",
    "# simon_says([1, 2, 3, 4, 5], [5, 5, 1, 2, 3]) ➞ False\n",
    "# Notes\n",
    "\n",
    "# Both input lists will be of the same length, and will have a minimum length of 2.\n",
    "# The values of the 0-indexed element in the second list and the n-1th indexed element in the first list do not matter."
   ]
  },
  {
   "cell_type": "code",
   "execution_count": 308,
   "metadata": {},
   "outputs": [
    {
     "name": "stdout",
     "output_type": "stream",
     "text": [
      "0i\n",
      "1i\n",
      "2i\n",
      "3i\n"
     ]
    },
    {
     "data": {
      "text/plain": [
       "'CHLN'"
      ]
     },
     "execution_count": 308,
     "metadata": {},
     "output_type": "execute_result"
    }
   ],
   "source": [
    "def society_name(friends):\n",
    "    friends=sorted(friends)\n",
    "    v=''\n",
    "\n",
    "    for i in range(0,len(friends)):\n",
    "        print(str(i)+'i')\n",
    "        v+=friends[i][0]\n",
    "    return v\n",
    "#or\n",
    "def society_name(friends):\n",
    "\treturn ''.join(sorted(i[0] for i in friends)) #list comprehension\n",
    "\n",
    "# A group of friends have decided to start a secret society. \n",
    "#The name will be the first letter of each of their names, sorted in alphabetical order.\n",
    "\n",
    "# Create a function that takes in a list of names and returns the name of the secret society.\n",
    "\n",
    "# Examples\n",
    "\n",
    "# society_name([\"Adam\", \"Sarah\", \"Malcolm\"]) ➞ \"AMS\"\n",
    "\n",
    "# society_name([\"Harry\", \"Newt\", \"Luna\", \"Cho\"]) ➞ \"CHLN\"\n",
    "\n",
    "# society_name([\"Phoebe\", \"Chandler\", \"Rachel\", \"Ross\", \"Monica\", \"Joey\"]) ➞ \"CJMPRR\"\n",
    "# Notes\n",
    "\n",
    "# The secret society's name should be entirely uppercased."
   ]
  },
  {
   "cell_type": "code",
   "execution_count": 348,
   "metadata": {},
   "outputs": [
    {
     "data": {
      "text/plain": [
       "True"
      ]
     },
     "execution_count": 348,
     "metadata": {},
     "output_type": "execute_result"
    }
   ],
   "source": [
    "def is_isogram(txt):\n",
    "    txt.lower()\n",
    "    v=[]\n",
    "    for i in txt.lower():\n",
    "        v.append(i)\n",
    "\n",
    "    v = list(dict.fromkeys(v))\n",
    "    v = ''.join(v)\n",
    "\n",
    "    if v==txt.lower():\n",
    "        return True\n",
    "    else:\n",
    "        return False\n",
    "\n",
    "txt='Algorism'\n",
    "is_isogram(txt)\n",
    "\n",
    "\n",
    "# An isogram is a word that has no duplicate letters. Create a function that\n",
    "#takes a string and returns either True or False depending on whether or not it's an \"isogram\".\n",
    "\n",
    "# Examples\n",
    "\n",
    "# is_isogram(\"Algorism\") ➞ True\n",
    "\n",
    "# is_isogram(\"PasSword\") ➞ False\n",
    "# # Not case sensitive.\n",
    "\n",
    "# is_isogram(\"Consecutive\") ➞ False\n",
    "# Notes\n",
    "\n",
    "# Ignore letter case (should not be case sensitive).\n",
    "# All test cases contain valid one word strings."
   ]
  },
  {
   "cell_type": "code",
   "execution_count": 354,
   "metadata": {},
   "outputs": [
    {
     "data": {
      "text/plain": [
       "'abdeit'"
      ]
     },
     "execution_count": 354,
     "metadata": {},
     "output_type": "execute_result"
    }
   ],
   "source": [
    "def is_in_order(txt):\n",
    "    return \"\".join(sorted(txt)) == txt\n",
    "\n",
    "\n",
    "# Create a function that takes a string and returns True or False, depending on whether the characters are in order or not.\n",
    "\n",
    "# Examples\n",
    "\n",
    "# is_in_order(\"abc\") ➞ True\n",
    "\n",
    "# is_in_order(\"edabit\") ➞ False\n",
    "\n",
    "# is_in_order(\"123\") ➞ True\n",
    "\n",
    "# is_in_order(\"xyzz\") ➞ True\n",
    "# Notes\n",
    "\n",
    "# You don't have to handle empty strings."
   ]
  },
  {
   "cell_type": "code",
   "execution_count": 412,
   "metadata": {},
   "outputs": [
    {
     "data": {
      "text/plain": [
       "[0.33, 0.981, 0.5644, 1.0]"
      ]
     },
     "execution_count": 412,
     "metadata": {},
     "output_type": "execute_result"
    }
   ],
   "source": [
    "def convert_to_decimal(perc):\n",
    "    return [float(i[:-1])/100 for i in perc]  #list comprehension\n",
    "\n",
    "#or\n",
    "def convert_to_decimal(perc):\n",
    "\treturn [float(i.strip(\"%\"))*0.01 for i in perc]\n",
    "\n",
    "# Create a function to convert a list of percentages to their decimal equivalents.\n",
    "\n",
    "# Examples\n",
    "\n",
    "# convert_to_decimal([\"1%\", \"2%\", \"3%\"]) ➞ [0.01, 0.02, 0.03]\n",
    "\n",
    "# convert_to_decimal([\"45%\", \"32%\", \"97%\", \"33%\"]) ➞ [0.45, 0.32, 0.97, 0.33]\n",
    "\n",
    "# convert_to_decimal([\"33%\", \"98.1%\", \"56.44%\", \"100%\"]) ➞ [0.33, 0.981, 0.5644, 1]\n",
    "# Notes\n",
    "\n",
    "# N/A"
   ]
  },
  {
   "cell_type": "code",
   "execution_count": 425,
   "metadata": {},
   "outputs": [
    {
     "data": {
      "text/plain": [
       "[1, 2, 3, 4]"
      ]
     },
     "execution_count": 425,
     "metadata": {},
     "output_type": "execute_result"
    }
   ],
   "source": [
    "from collections import OrderedDict\n",
    "\n",
    "def unique_sort(lst):\n",
    "    return list(OrderedDict.fromkeys(sorted(lst)))\n",
    "\n",
    "\n",
    "#or\n",
    "def unique_sort(lst):\n",
    "    return sorted(set(lst))\n",
    "\n",
    "# Given a list of numbers, write a function that returns a list that...\n",
    "\n",
    "# Has all duplicate elements removed.\n",
    "# Is sorted from least to greatest value.\n",
    "# Examples\n",
    "\n",
    "# unique_sort([1, 2, 4, 3]) ➞ [1, 2, 3, 4]\n",
    "\n",
    "# unique_sort([1, 4, 4, 4, 4, 4, 3, 2, 1, 2]) ➞ [1, 2, 3, 4]\n",
    "\n",
    "# unique_sort([6, 7, 3, 2, 1]) ➞ [1, 2, 3, 6, 7]\n",
    "# Notes\n",
    "\n",
    "# N/A"
   ]
  },
  {
   "cell_type": "code",
   "execution_count": 452,
   "metadata": {},
   "outputs": [
    {
     "data": {
      "text/plain": [
       "True"
      ]
     },
     "execution_count": 452,
     "metadata": {},
     "output_type": "execute_result"
    }
   ],
   "source": [
    "\n",
    "def is_symmetrical(num):\n",
    "    return str(num)==str(num)[::-1]\n",
    "\n",
    "\n",
    "# Create a function that takes a number as an argument and returns True or\n",
    "#False depending on whether the number is symmetrical or not. \n",
    "#A number is symmetrical when it is the same as its reverse.\n",
    "\n",
    "# Examples\n",
    "\n",
    "# is_symmetrical(7227) ➞ True\n",
    "\n",
    "# is_symmetrical(12567) ➞ False\n",
    "\n",
    "# is_symmetrical(44444444) ➞ True\n",
    "\n",
    "# is_symmetrical(9939) ➞ False\n",
    "\n",
    "# is_symmetrical(1112111) ➞ True\n"
   ]
  },
  {
   "cell_type": "code",
   "execution_count": 460,
   "metadata": {},
   "outputs": [
    {
     "name": "stdout",
     "output_type": "stream",
     "text": [
      "2\n"
     ]
    },
    {
     "ename": "TypeError",
     "evalue": "can't multiply sequence by non-int of type 'str'",
     "output_type": "error",
     "traceback": [
      "\u001b[0;31m---------------------------------------------------------------------------\u001b[0m",
      "\u001b[0;31mTypeError\u001b[0m                                 Traceback (most recent call last)",
      "\u001b[0;32m<ipython-input-460-5d951fdbac65>\u001b[0m in \u001b[0;36m<module>\u001b[0;34m\u001b[0m\n\u001b[1;32m      2\u001b[0m \u001b[0;32mfor\u001b[0m \u001b[0mi\u001b[0m \u001b[0;32min\u001b[0m \u001b[0mstr\u001b[0m\u001b[0;34m(\u001b[0m\u001b[0mnum\u001b[0m\u001b[0;34m)\u001b[0m\u001b[0;34m:\u001b[0m\u001b[0;34m\u001b[0m\u001b[0;34m\u001b[0m\u001b[0m\n\u001b[1;32m      3\u001b[0m     \u001b[0mprint\u001b[0m\u001b[0;34m(\u001b[0m\u001b[0mi\u001b[0m\u001b[0;34m)\u001b[0m\u001b[0;34m\u001b[0m\u001b[0;34m\u001b[0m\u001b[0m\n\u001b[0;32m----> 4\u001b[0;31m     \u001b[0mprint\u001b[0m\u001b[0;34m(\u001b[0m\u001b[0meval\u001b[0m\u001b[0;34m(\u001b[0m\u001b[0mi\u001b[0m\u001b[0;34m*\u001b[0m\u001b[0mstr\u001b[0m\u001b[0;34m(\u001b[0m\u001b[0;36m2\u001b[0m\u001b[0;34m)\u001b[0m\u001b[0;34m)\u001b[0m\u001b[0;34m)\u001b[0m\u001b[0;34m\u001b[0m\u001b[0;34m\u001b[0m\u001b[0m\n\u001b[0m\u001b[1;32m      5\u001b[0m \u001b[0;34m\u001b[0m\u001b[0m\n\u001b[1;32m      6\u001b[0m \u001b[0;31m# Create a function that squares every digit of a number.\u001b[0m\u001b[0;34m\u001b[0m\u001b[0;34m\u001b[0m\u001b[0;34m\u001b[0m\u001b[0m\n",
      "\u001b[0;31mTypeError\u001b[0m: can't multiply sequence by non-int of type 'str'"
     ]
    }
   ],
   "source": [
    "def square_digits(n):\n",
    "\treturn int(\"\".join(str(int(i)**2) for i in str(n))) #list comprehension\n",
    "\n",
    "\n",
    "# Create a function that squares every digit of a number.\n",
    "\n",
    "# Examples\n",
    "\n",
    "# square_digits(9119) ➞ 811181\n",
    "\n",
    "# square_digits(2483) ➞ 416649\n",
    "\n",
    "# square_digits(3212) ➞ 9414\n",
    "# Notes\n",
    "\n",
    "# The function receives an integer and must return an integer."
   ]
  },
  {
   "cell_type": "code",
   "execution_count": 467,
   "metadata": {},
   "outputs": [
    {
     "data": {
      "text/plain": [
       "9"
      ]
     },
     "execution_count": 467,
     "metadata": {},
     "output_type": "execute_result"
    }
   ],
   "source": [
    "def count_palindromes(num1, num2):\n",
    "    count=0\n",
    "    for i in range(num1,num2+1):\n",
    "        if str(i)==str(i)[::-1]:\n",
    "            count+=1\n",
    "    return count\n",
    "\n",
    "#or\n",
    "def count_palindromes(num1, num2): #string comprehension\n",
    "\treturn sum(str(x) == str(x)[::-1] for x in range(num1,num2+1))\n",
    "    \n",
    "\n",
    "\n",
    "# Create a function that returns the number of palindrome numbers in a specified range (inclusive).\n",
    "\n",
    "# For example, between 8 and 34, there are 5 palindromes: 8, 9, 11, 22 and 33. \n",
    "#Between 1550 and 1552 there is exactly one palindrome: 1551.\n",
    "\n",
    "# Examples\n",
    "\n",
    "# count_palindromes(1, 10) ➞ 9\n",
    "\n",
    "# count_palindromes(555, 556) ➞ 1\n",
    "\n",
    "# count_palindromes(878, 898) ➞ 3\n",
    "# Notes\n",
    "\n",
    "# Single-digit numbers are trivially palindrome numbers."
   ]
  },
  {
   "cell_type": "code",
   "execution_count": 478,
   "metadata": {},
   "outputs": [
    {
     "data": {
      "text/plain": [
       "['Becky', 'John', 'Steve']"
      ]
     },
     "execution_count": 478,
     "metadata": {},
     "output_type": "execute_result"
    }
   ],
   "source": [
    "def get_student_names(students):\n",
    "    return sorted(list(students.values()))\n",
    "\n",
    "# Create a function that takes a dictionary of student names and returns a list of student names \n",
    "#in alphabetical order.\n",
    "\n",
    "# Examples\n",
    "\n",
    "# get_student_names({\n",
    "#   \"Student 1\" : \"Steve\",\n",
    "#   \"Student 2\" : \"Becky\",\n",
    "#   \"Student 3\" : \"John\"\n",
    "# }) ➞ [\"Becky\", \"John\", \"Steve\"]\n",
    "# Notes\n",
    "\n",
    "# Don't forget to return your result.\n",
    "# If you get stuck on a challenge, find help in the Resources tab.\n",
    "# If you're really stuck, unlock solutions in the Solutions tab."
   ]
  },
  {
   "cell_type": "code",
   "execution_count": 501,
   "metadata": {},
   "outputs": [
    {
     "name": "stdout",
     "output_type": "stream",
     "text": [
      "Hello Frank\n",
      "Hello Angela\n",
      "Hello Joe\n"
     ]
    },
    {
     "data": {
      "text/plain": [
       "'Hello Frank, Hello Angela, Hello Joe'"
      ]
     },
     "execution_count": 501,
     "metadata": {},
     "output_type": "execute_result"
    }
   ],
   "source": [
    "def greet_people(names):\n",
    "    s=''\n",
    "    for i in names:\n",
    "        print('Hello '+str(i))\n",
    "        s+='Hello '+str(i)\n",
    "        s+=', '\n",
    "\n",
    "    return s[:-2]\n",
    "\n",
    "#or\n",
    "def greet_people(names): #list comprehension\n",
    "\treturn \", \".join([\"Hello \" + n for n in names])\n",
    "# In this exercise you will have to:\n",
    "\n",
    "# Take a list of names.\n",
    "# Add \"Hello\" to every name.\n",
    "# Make one big string with all greetings.\n",
    "# The solution should be one string with a comma in between every \"Hello (Name)\".\n",
    "\n",
    "# Examples\n",
    "\n",
    "# greet_people([\"Joe\"]) ➞ \"Hello Joe\"\n",
    "\n",
    "# greet_people([\"Angela\", \"Joe\"]) ➞ \"Hello Angela, Hello Joe\"\n",
    "\n",
    "# greet_people([\"Frank\", \"Angela\", \"Joe\"]) ➞ \"Hello Frank, Hello Angela, Hello Joe\"\n",
    "# Notes\n",
    "\n",
    "# Each greeting has to be separated with a comma and a space.\n",
    "# If you're given an empty list [], return an empty string \"\"."
   ]
  },
  {
   "cell_type": "code",
   "execution_count": 519,
   "metadata": {},
   "outputs": [
    {
     "name": "stdout",
     "output_type": "stream",
     "text": [
      "4\n",
      "2\n",
      "4\n"
     ]
    }
   ],
   "source": [
    "def total_volume(*boxes):\n",
    "\treturn sum([x*y*z for x,y,z in boxes]) #list compehension\n",
    "# Given a list of boxes, create a function that returns the total volume of all those boxes combined together. A box is represented by a list with three elements: length, width and height.\n",
    "\n",
    "# For instance, total_volume([2, 3, 2], [6, 6, 7], [1, 2, 1]) should return 266 since (2 x 3 x 2) + (6 x 6 x 7) + (1 x 2 x 1) = 12 + 252 + 2 = 266.\n",
    "\n",
    "# Examples\n",
    "\n",
    "# total_volume([4, 2, 4], [3, 3, 3], [1, 1, 2], [2, 1, 1]) ➞ 63\n",
    "\n",
    "# total_volume([2, 2, 2], [2, 1, 1]) ➞ 10\n",
    "\n",
    "# total_volume([1, 1, 1]) ➞ 1\n",
    "# Notes\n",
    "\n",
    "# You will be given at least one box.\n",
    "# Each box will always have three dimensions included."
   ]
  },
  {
   "cell_type": "code",
   "execution_count": 544,
   "metadata": {},
   "outputs": [
    {
     "data": {
      "text/plain": [
       "3"
      ]
     },
     "execution_count": 544,
     "metadata": {},
     "output_type": "execute_result"
    }
   ],
   "source": [
    "\n",
    "def mean(num):\n",
    "    count=0\n",
    "    v=0\n",
    "    for i in str(num):\n",
    "        v+=int(i)\n",
    "        count+=1\n",
    "\n",
    "\n",
    "    return int(v/count)\n",
    "\n",
    "#or\n",
    "def mean(num): #list comprehension\n",
    "\tx = [int(x) for x in str(abs(num))]\n",
    "\treturn sum(x)/len(x)\n",
    "\n",
    "\n",
    "# Create a function that returns the mean of all digits.\n",
    "\n",
    "# Examples\n",
    "\n",
    "# mean(42) ➞ 3\n",
    "\n",
    "# mean(12345) ➞ 3\n",
    "\n",
    "# mean(666) ➞ 6\n",
    "# Notes\n",
    "\n",
    "# The mean of all digits is the sum of digits / how many digits there are (e.g. mean of digits in 512 is (5+1+2)/3(number of digits) = 8/3=2).\n",
    "# The mean will always be an integer"
   ]
  },
  {
   "cell_type": "code",
   "execution_count": 559,
   "metadata": {},
   "outputs": [
    {
     "data": {
      "text/plain": [
       "[1, 1, -1]"
      ]
     },
     "execution_count": 559,
     "metadata": {},
     "output_type": "execute_result"
    }
   ],
   "source": [
    "user,correct=[\"it\", \"is\", \"find\"], [\"it\", \"is\", \"fine\"]\n",
    "\n",
    "def correct_stream(user, correct):\n",
    "    v=[]\n",
    "    for i in range(len(user)):\n",
    "        if user[i]==correct[i]:\n",
    "            v.append(1)\n",
    "        else:\n",
    "            v.append(-1)\n",
    "\n",
    "    return v\n",
    "\n",
    "#or\n",
    "def correct_stream(user, correct): #list comprehension\n",
    "\treturn [1 if user[i] == correct[i] else -1 for i in range(len(user))]\n",
    "\n",
    "\n",
    "# You're in the midst of creating a typing game.\n",
    "\n",
    "# Create a function that takes in two lists: the list of user-typed words, and the list of correctly-typed words and outputs a list containing 1s (correctly-typed words) and -1s (incorrectly-typed words).\n",
    "\n",
    "# # Inputs:\n",
    "# User-typed: [\"cat\", \"blue\", \"skt\", \"umbrells\", \"paddy\"]\n",
    "# Correct: [\"cat\", \"blue\", \"sky\", \"umbrella\", \"paddy\"]\n",
    "\n",
    "# # Output: [1, 1, -1, -1, 1]\n",
    "# Examples\n",
    "\n",
    "# correct_stream(\n",
    "#   [\"it\", \"is\", \"find\"],\n",
    "#   [\"it\", \"is\", \"fine\"]\n",
    "# ) ➞ [1, 1, -1]\n",
    "\n",
    "# correct_stream(\n",
    "#   [\"april\", \"showrs\", \"bring\", \"may\", \"flowers\"],\n",
    "#   [\"april\", \"showers\", \"bring\", \"may\", \"flowers\"]\n",
    "# ) ➞ [1, -1, 1, 1, 1]\n",
    "# Notes\n",
    "\n",
    "# The input list lengths will always be the same."
   ]
  },
  {
   "cell_type": "code",
   "execution_count": 581,
   "metadata": {},
   "outputs": [
    {
     "data": {
      "text/plain": [
       "' hv nvr sn  thn prsn drnkng Dt Ck.'"
      ]
     },
     "execution_count": 581,
     "metadata": {},
     "output_type": "execute_result"
    }
   ],
   "source": [
    "\n",
    "def remove_vowels(txt):\n",
    "\n",
    "    vowel = ['a', 'e', 'i', 'o', 'u','A','E','I','O','U']\n",
    "    v=''\n",
    "\n",
    "    for i in txt:\n",
    "        if i not in vowel:\n",
    "            #print(i)\n",
    "            v+=i\n",
    "    return v       \n",
    "\n",
    "#or\n",
    "def remove_vowels(txt): #list comprehension\n",
    "    return ''.join([x for x in txt if x not in \"aeiouAEIOU\"])\n",
    "\n",
    "# Create a function that takes a string and returns a new string with all vowels removed.\n",
    "\n",
    "# Examples\n",
    "\n",
    "# remove_vowels(\"I have never seen a thin person drinking Diet Coke.\")\n",
    "# ➞ \" hv nvr sn  thn prsn drnkng Dt Ck.\"\n",
    "\n",
    "# remove_vowels(\"We're gonna build a wall!\")\n",
    "# ➞ \"W'r gnn bld  wll!\"\n",
    "\n",
    "# remove_vowels(\"Happy Thanksgiving to all--even the haters and losers!\")\n",
    "# ➞ \"Hppy Thnksgvng t ll--vn th htrs nd lsrs!\"\n",
    "# Notes\n",
    "\n",
    "# \"y\" is not considered a vowel.\n",
    "# Expect a valid string for all test cases."
   ]
  },
  {
   "cell_type": "code",
   "execution_count": 640,
   "metadata": {},
   "outputs": [
    {
     "name": "stdout",
     "output_type": "stream",
     "text": [
      "11 101\n"
     ]
    },
    {
     "data": {
      "text/plain": [
       "'0b100'"
      ]
     },
     "execution_count": 640,
     "metadata": {},
     "output_type": "execute_result"
    }
   ],
   "source": [
    "def bitwise_and(n1, n2):\n",
    "\treturn n1 & n2\n",
    "\n",
    "def bitwise_or(n1, n2):\n",
    "\treturn n1 | n2\n",
    "\n",
    "def bitwise_xor(n1, n2):\n",
    "\treturn n1 ^ n2\n",
    "\n",
    "# n1=6\n",
    "# n2=5\n",
    "# x=bitwise_and(n1, n2)\n",
    "# print(bin(n1).strip('0b'),bin(n2).strip('0b'))\n",
    "# bin(x)\n",
    "\n",
    "\n",
    "# A decimal number can be represented as a sequence of bits. To illustrate:\n",
    "\n",
    "# 6 = 00000110\n",
    "# 23 = 00010111\n",
    "# From the bitwise representation of numbers, we can calculate the bitwise AND, bitwise OR and bitwise XOR. Using the example above:\n",
    "\n",
    "# bitwise_and(6, 23) ➞ 00000110\n",
    "\n",
    "# bitwise_or(6, 23) ➞ 00010111\n",
    "\n",
    "# bitwise_xor(6, 23) ➞ 00010001\n",
    "# Write three functions to calculate the bitwise AND, bitwise OR and bitwise XOR of two numbers.\n",
    "\n",
    "# Examples\n",
    "\n",
    "# bitwise_and(7, 12) ➞ 4\n",
    "\n",
    "# bitwise_or(7, 12) ➞ 15\n",
    "\n",
    "# bitwise_xor(7, 12) ➞ 11\n",
    "# Notes\n",
    "\n",
    "# N/A"
   ]
  },
  {
   "cell_type": "code",
   "execution_count": 649,
   "metadata": {},
   "outputs": [
    {
     "data": {
      "text/plain": [
       "[True, False, False, True]"
      ]
     },
     "execution_count": 649,
     "metadata": {},
     "output_type": "execute_result"
    }
   ],
   "source": [
    "def integer_boolean(n):\n",
    "    return[True if i=='1' else False for i in n] #list comprehension\n",
    "        \n",
    "#or\n",
    "def integer_boolean(n):\n",
    "\treturn [i == '1' for i in str(n)]\n",
    "    \n",
    "    \n",
    "    \n",
    "# Create a function which returns a list of booleans, from a given number. Iterating through the number one digit at a time, append True if the digit is 1 and False if it is 0.\n",
    "\n",
    "# Examples\n",
    "\n",
    "# integer_boolean(\"100101\") ➞ [True, False, False, True, False, True]\n",
    "\n",
    "# integer_boolean(\"10\") ➞ [True, False]\n",
    "\n",
    "# integer_boolean(\"001\") ➞ [False, False, True]\n",
    "# Notes\n",
    "\n",
    "# Expect numbers with 0 and 1 only."
   ]
  },
  {
   "cell_type": "code",
   "execution_count": 712,
   "metadata": {},
   "outputs": [
    {
     "name": "stdout",
     "output_type": "stream",
     "text": [
      "True\n"
     ]
    }
   ],
   "source": [
    "def is_anagram(s1, s2):\n",
    "    v=[True if i in s2.lower() else False for i in s1.lower()]\n",
    "    return True if set(v)=={True} and len(s1)==len(s2) else False\n",
    "#len(s1)==len(s2) because apple and appeal have same letter but different lengths\n",
    "\n",
    "#or\n",
    "def is_anagram(s1, s2): #list comprehension\n",
    "    return(sorted(s1.lower()) == sorted(s2.lower()))\n",
    "# Create a function that takes two strings and returns either True or False depending on whether they're anagrams or not.\n",
    "\n",
    "# Examples\n",
    "\n",
    "# is_anagram(\"cristian\", \"Cristina\") ➞ True\n",
    "\n",
    "# is_anagram(\"Dave Barry\", \"Ray Adverb\") ➞ True\n",
    "\n",
    "# is_anagram(\"Nope\", \"Note\") ➞ False\n",
    "# Notes\n",
    "\n",
    "# Should be case insensitive.\n",
    "# The two given strings can be of different lengths."
   ]
  },
  {
   "cell_type": "code",
   "execution_count": 723,
   "metadata": {},
   "outputs": [
    {
     "name": "stdout",
     "output_type": "stream",
     "text": [
      "[5, 3, 7, 9, 2]\n",
      "3\n",
      "2\n",
      "5\n"
     ]
    }
   ],
   "source": [
    "def is_subset(lst1, lst2):\n",
    "    v=[True if i in lst2 else False for i in lst1]\n",
    "    return True if set(v)=={True} else False\n",
    "\n",
    "#or\n",
    "def is_subset(lst1, lst2): #list comprehension\n",
    "\treturn set(lst1) <= set(lst2)\n",
    "\n",
    "#or\n",
    "def is_subset(lst1, lst2):\n",
    "\treturn all(i in lst2 for i in lst1)\n",
    "#The all() function returns True if all items in an iterable are true, otherwise it returns False.\n",
    "\n",
    "#or\n",
    "def is_subset(lst1, lst2):\n",
    "    return all([True if i in lst2 else False for i in lst1])\n",
    "\n",
    "#or\n",
    "def is_subset(lst1, lst2):\n",
    "\treturn set(lst1).issubset(set(lst2))\n",
    "\n",
    "#or\n",
    "def is_subset(lst1, lst2):\n",
    "\treturn sorted(set(lst1 + lst2)) == sorted(lst2)\n",
    "\n",
    "# Create a function that returns True if the first list is a subset of the second. Return False otherwise.\n",
    "\n",
    "# Examples\n",
    "\n",
    "# is_subset([3, 2, 5], [5, 3, 7, 9, 2]) ➞ True\n",
    "\n",
    "# is_subset([8, 9], [7, 1, 9, 8, 4, 5, 6]) ➞ True\n",
    "\n",
    "# is_subset([1, 2], [3, 5, 9, 1]) ➞ False\n",
    "# Notes\n",
    "\n",
    "# Both lists will contain only unique values."
   ]
  },
  {
   "cell_type": "code",
   "execution_count": 730,
   "metadata": {},
   "outputs": [],
   "source": [
    "def are_true(a, b):\n",
    "\treturn 'both' if a and b else 'first' if a else 'second' if b else 'neither'\n",
    "\n",
    "# Check the principles of minimalist code in the intro to the first challenge.\n",
    "\n",
    "# In the Code tab you will find a code that is missing a single character in order to pass the tests. However, your goal is to submit a function as minimalist as possible. Use the tips in the tips section below.\n",
    "\n",
    "# Write a function that returns the strings:\n",
    "\n",
    "# \"both\" if both given booleans a and b are True.\n",
    "# \"first\" if only a is True.\n",
    "# \"second\" if only b is True .\n",
    "# \"neither\" if both a and b are False.\n",
    "# Tips\n",
    "\n",
    "# If-else statements can be written as a oneliner using Python's ternary operator.\n",
    "\n",
    "# For example, the code:\n",
    "\n",
    "# def startswith(name):\n",
    "#   if name[0] in \"AEIOU\":\n",
    "#     return \"vowel\"\n",
    "#   else:\n",
    "#     return \"consonant\"\n",
    "# Can be simplified to:\n",
    "\n",
    "# def startswith(name):\n",
    "#   return \"vowel\" if name[0] in \"AEIOU\" else \"consonant\"\n",
    "# Bonus\n",
    "\n",
    "# You can concatenate as many ternary operators as you want. However, concatenating too many will definitely diminish the readability of your code.\n",
    "\n",
    "# \"majority\" if  x > 50 else \"minority\" if x < 50 else \"draw\"\n",
    "# Notes\n",
    "\n",
    "# This is an open series: there isn't a definite list of features for the challenges. Please, do not hesitate to leave your suggestions in the Comments.\n",
    "# Readability is indeed a subjective concept. Let's discuss it! Feel free to leave your opinion in the Comments.\n",
    "# You can find all the exercises in this series over here."
   ]
  },
  {
   "cell_type": "code",
   "execution_count": 748,
   "metadata": {},
   "outputs": [],
   "source": [
    "def halve_count(a, b):\n",
    "    count=-1\n",
    "    while a > b:\n",
    "        a/=2\n",
    "        count+=1\n",
    "    return count\n",
    "\n",
    "# Given two integers a and b, return how many times a can be halved while still being greater than b.\n",
    "\n",
    "# Examples\n",
    "\n",
    "# halve_count(1324, 98) ➞ 3\n",
    "# # (1324 -> 662 -> 331 -> 165.5)\n",
    "\n",
    "# halve_count(624, 8) ➞ 6\n",
    "# # (624 -> 312 -> 156 -> 78 -> 39 -> 19.5 -> 9.75)\n",
    "\n",
    "# halve_count(1000, 3) ➞ 8\n",
    "# # (1000 -> 500 -> 250 -> 125 -> 62.5 -> 31.25 -> 15.625 -> 7.8125 -> 3.90625)\n",
    "# Notes\n",
    "\n",
    "# Integer a will always be able to be halved at least once in every test case."
   ]
  },
  {
   "cell_type": "code",
   "execution_count": 765,
   "metadata": {},
   "outputs": [
    {
     "name": "stdout",
     "output_type": "stream",
     "text": [
      "[1, 3, 5, 7]\n"
     ]
    },
    {
     "data": {
      "text/plain": [
       "7"
      ]
     },
     "execution_count": 765,
     "metadata": {},
     "output_type": "execute_result"
    }
   ],
   "source": [
    "def nth_smallest(lst, n):\n",
    "    return None if n>len(lst) else sorted(lst)[n-1] #list comprehension\n",
    "# Given an unsorted list, create a function that returns the nth smallest integer \n",
    "# (the smallest integer is the first smallest, the second smallest integer is the second smallest, etc).\n",
    "\n",
    "# Examples\n",
    "\n",
    "# nth_smallest([1, 3, 5, 7], 1) ➞ 1\n",
    "\n",
    "# nth_smallest([1, 3, 5, 7], 3) ➞ 5\n",
    "\n",
    "# nth_smallest([1, 3, 5, 7], 5) ➞ None\n",
    "\n",
    "# nth_smallest([7, 3, 5, 1], 2) ➞ 3\n",
    "# Notes\n",
    "\n",
    "# n will always be >= 1.\n",
    "# Each number in the array will be distinct (there will be a clear ordering).\n",
    "# Given an out of bounds parameter (e.g. a list is of size k), \n",
    "#and you are asked to find the m > k smallest integer, return None."
   ]
  },
  {
   "cell_type": "code",
   "execution_count": 812,
   "metadata": {},
   "outputs": [
    {
     "data": {
      "text/plain": [
       "True"
      ]
     },
     "execution_count": 812,
     "metadata": {},
     "output_type": "execute_result"
    }
   ],
   "source": [
    "def is_automorphic(n):\n",
    "    return str(n) == str(n**2)[-len(str(n)):] #list comprehension\n",
    "\n",
    "# A number n is automorphic if n^2 ends in n.\n",
    "\n",
    "# For example: n=5, n^2=25\n",
    "\n",
    "# Create a function that takes a number and returns True if the number is automorphic, False if it isn't.\n",
    "\n",
    "# Examples\n",
    "\n",
    "# is_automorphic(5) ➞ True\n",
    "\n",
    "# is_automorphic(8) ➞ False\n",
    "\n",
    "# is_automorphic(76) ➞ True\n",
    "# Notes\n",
    "\n",
    "# N/A"
   ]
  }
 ],
 "metadata": {
  "kernelspec": {
   "display_name": "Python 3",
   "language": "python",
   "name": "python3"
  },
  "language_info": {
   "codemirror_mode": {
    "name": "ipython",
    "version": 3
   },
   "file_extension": ".py",
   "mimetype": "text/x-python",
   "name": "python",
   "nbconvert_exporter": "python",
   "pygments_lexer": "ipython3",
   "version": "3.8.3"
  }
 },
 "nbformat": 4,
 "nbformat_minor": 4
}
